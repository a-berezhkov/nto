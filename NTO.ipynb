{
 "cells": [
  {
   "cell_type": "markdown",
   "id": "e2fe82af",
   "metadata": {},
   "source": [
    "- <span style=\"font-size: 18px;text-decoration: none;\">[Генеарция данных](#chapter1)<span>\n",
    "\n",
    "    - <span style=\"font-size: 18px;text-decoration: none;\">[Задача 1](#task1)<span>\n",
    "\n",
    "    - <span style=\"font-size: 18px;text-decoration: none;\">[Решение задания 1](#solve1)<span>\n",
    "    \n",
    "    - <span style=\"font-size: 18px;text-decoration: none;\">[Задача 2](#task2)<span>\n",
    "\n",
    "    - <span style=\"font-size: 18px;text-decoration: none;\">[Решение задания 2](#solve2)<span>\n",
    "    \n",
    "- <span style=\"font-size: 18px;text-decoration: none;\">[Статистический анализ](#chapter2)<span>\n",
    "    \n",
    "    - <span style=\"font-size: 18px;text-decoration: none;\">[Задача 3](#task3)<span>\n",
    "\n",
    "    - <span style=\"font-size: 18px;text-decoration: none;\">[Решение задания 3](#solve3)<span>\n",
    "    \n",
    "- <span style=\"font-size: 18px;text-decoration: none;\">[Гистограммы и оценки плотности для годовой выручки и количества сотрудников](#chapter3)<span>   \n",
    "    \n",
    "    - <span style=\"font-size: 18px;text-decoration: none;\">[Задача 4](#task4)<span>\n",
    "\n",
    "    - <span style=\"font-size: 18px;text-decoration: none;\">[Решение задания 4](#solve4)<span>\n",
    "        \n",
    "    - <span style=\"font-size: 18px;text-decoration: none;\">[Задача 5](#task5)<span>\n",
    "\n",
    "    - <span style=\"font-size: 18px;text-decoration: none;\">[Решение задания 5](#solve5)<span>\n",
    "    \n",
    "    - <span style=\"font-size: 18px;text-decoration: none;\">[Задача 6](#task6)<span>\n",
    "\n",
    "    - <span style=\"font-size: 18px;text-decoration: none;\">[Решение задания 6](#solve6)<span>\n",
    "    \n",
    "    - <span style=\"font-size: 18px;text-decoration: none;\">[Задача 7](#task7)<span>\n",
    "\n",
    "    - <span style=\"font-size: 18px;text-decoration: none;\">[Решение задания 7](#solve7)<span>\n",
    "    \n",
    "    - <span style=\"font-size: 18px;text-decoration: none;\">[Задача 8](#task8)<span>\n",
    "\n",
    "    - <span style=\"font-size: 18px;text-decoration: none;\">[Решение задания 8](#solve8)<span>   \n",
    "    \n",
    "- <span style=\"font-size: 18px;text-decoration: none;\">[Временные ряды](#chapter4)<span> \n",
    "    \n",
    "    - <span style=\"font-size: 18px;text-decoration: none;\">[Задача 9](#task9)<span>\n",
    "\n",
    "    - <span style=\"font-size: 18px;text-decoration: none;\">[Решение задания 9](#solve9)<span>  \n",
    "    \n",
    "- <span style=\"font-size: 18px;text-decoration: none;\">[Пространственные данные](#chapter5)<span>   \n",
    "     \n",
    "    - <span style=\"font-size: 18px;text-decoration: none;\">[Задача 10](#task10)<span>\n",
    "\n",
    "    - <span style=\"font-size: 18px;text-decoration: none;\">[Решение задания 10](#solve10)<span>    \n",
    "    \n",
    "    - <span style=\"font-size: 18px;text-decoration: none;\">[Задача 11](#task11)<span>\n",
    "\n",
    "    - <span style=\"font-size: 18px;text-decoration: none;\">[Решение задания 11](#solve11)<span> \n",
    "    \n",
    "- <span style=\"font-size: 18px;text-decoration: none;\">[Интерфейсы и база данных](#chapter6)<span>   \n",
    "    \n",
    "    - <span style=\"font-size: 18px;text-decoration: none;\">[Задача 12](#task12)<span>\n",
    "\n",
    "    - <span style=\"font-size: 18px;text-decoration: none;\">[Решение задания 12](#solve12)<span> \n",
    "    \n",
    "    - <span style=\"font-size: 18px;text-decoration: none;\">[Задача 13](#task13)<span>\n",
    "\n",
    "    - <span style=\"font-size: 18px;text-decoration: none;\">[Решение задания 13](#solve13)<span> \n",
    "    \n",
    "    \n"
   ]
  },
  {
   "cell_type": "markdown",
   "id": "bn0XdjnJZwDB",
   "metadata": {
    "id": "bn0XdjnJZwDB"
   },
   "source": [
    "### Легенда:\n",
    "\n",
    "Ученик Алексей по факту программист-аналитик, но в душе художник. И считает, что мало проанализировать, необходимо еще и представить это так, чтобы результаты анализа были наглядными и понятними всем.\n",
    "\n",
    "Помоги Алексею создать идеальную комбинацию аналитики экономических данных и визуализации результатов. Двигайся по шагам в файле, внимательно изучай теорию, последовательно запускай код и решай задания, дописывая недостающий фрагменты.\n",
    "\n",
    "\n",
    "\n"
   ]
  },
  {
   "cell_type": "markdown",
   "id": "04ee2426",
   "metadata": {
    "id": "04ee2426"
   },
   "source": [
    "<a id=\"chapter1\"></a>\n",
    "\n",
    "# Генерация данных"
   ]
  },
  {
   "cell_type": "markdown",
   "id": "a22506d5",
   "metadata": {
    "id": "a22506d5"
   },
   "source": [
    "Сложно создать идеальный пример аналитики данных без данных :\\)\n",
    "Алексей решил создать свою собственную выборку экономических данных для 1000 фирм.\n",
    "\n",
    "Для этого Алексею понадобится (1) работать с форматом данных **csv** и (2) генератор случайных чисел и соответствуюзие библиотеки (1) **`csv`** и (2) **`random`**.\n",
    "\n",
    "Подключи их с помощью ключевого слова `import`."
   ]
  },
  {
   "cell_type": "code",
   "execution_count": 2,
   "id": "7fd659db",
   "metadata": {
    "id": "7fd659db"
   },
   "outputs": [],
   "source": [
    "import csv\n",
    "import random"
   ]
  },
  {
   "cell_type": "markdown",
   "id": "FL4msiDYfOat",
   "metadata": {
    "id": "FL4msiDYfOat"
   },
   "source": [
    "Далее нам нужен запуск генератора случайных чисел для создания выборки. Не забудь предварительно настроить функцию `random.seed()`.\n",
    "\n",
    "**Python random.seed()**:\n",
    "\n",
    "<blockquote>Функция `random.seed()` предназначена для инициализации случайных чисел. Если передать генератору случайных чисел некое начальное число, то при запуске программы ты каждый раз будешь получать один и тот же результат. Т.е. создашь предсказуемый генератор случайных чисел.</blockquote>\n",
    "\n",
    "<blockquote>Для того, чтобы в этом задании все получилось как надо, перед генерацией запусти функцию с начальным значением 42 - `random.seed(42)`. </blockquote>\n",
    "\n",
    "<blockquote> *ВАЖНО: Обрати внимание на начальное значение, если у тебя оно будут другим, то результаты анализа данных в будущем могут не сойтись.*</blockquote>"
   ]
  },
  {
   "cell_type": "code",
   "execution_count": 4,
   "id": "b0ee9acb",
   "metadata": {
    "id": "b0ee9acb"
   },
   "outputs": [],
   "source": [
    "# Не меняйте код в этой ячейке!\n",
    "# Задаем seed для воспроизводимости результатов\n",
    "random.seed(42)"
   ]
  },
  {
   "cell_type": "markdown",
   "id": "d04777d3",
   "metadata": {
    "id": "d04777d3"
   },
   "source": [
    "В нашей экономической выборке Алексей хочет хранить следующие сведения:\n",
    "\n",
    "- Год основания фирмы (от 1990 до 2020).\n",
    "- Годовая выручка фирмы (в диапазоне от 100,000 до 10,000,000).\n",
    "- Количество сотрудников в фирме (от 10 до 500).\n",
    "\n",
    "Данные удобно хранить в списках, которые могут быть созданы заранее. Подробнее о списках - [почитать тут](https://pythonworld.ru/tipy-dannyx-v-python/spiski-list-funkcii-i-metody-spiskov.html)\n",
    "\n",
    "Заведи под эти сведения пустые списки."
   ]
  },
  {
   "cell_type": "code",
   "execution_count": 7,
   "id": "224b3c91",
   "metadata": {
    "id": "224b3c91"
   },
   "outputs": [],
   "source": [
    "# Создаем пустые списки для данных\n",
    "years = []\n",
    "revenues = []\n",
    "employees = []"
   ]
  },
  {
   "cell_type": "markdown",
   "id": "d58bff96",
   "metadata": {
    "id": "d58bff96"
   },
   "source": [
    "Итак, генерируем случайные данные для 1000 фирм. Генерация данных осуществляется с помощью библиотеки `random` и метода `randint()`. Для добавления параметров в списки используй метод `.append()`."
   ]
  },
  {
   "cell_type": "markdown",
   "id": "fa367a89",
   "metadata": {},
   "source": [
    "<a id='task1'></a>\n",
    "\n",
    "### Задача №1 "
   ]
  },
  {
   "cell_type": "markdown",
   "id": "c36ba5d6",
   "metadata": {},
   "source": [
    "Допиши фрагмент кода для генерации данных годовой выручки фирмы и количества сотрудников по образцу списка `year` (год основания фирмы).\n",
    "\n",
    "*ВАЖНО: Обрати внимание на указанные диапазоны, если у тебя они будут другие, то результаты анализа данных в будущем могут не сойтись.*"
   ]
  },
  {
   "cell_type": "code",
   "execution_count": 8,
   "id": "7c0a3060",
   "metadata": {
    "id": "7c0a3060"
   },
   "outputs": [],
   "source": [
    "# Генерируем случайные данные для 1000 фирм\n",
    "\n",
    "for _ in range(1000):\n",
    "    # Год основания фирмы (от 1990 до 2020)\n",
    "    year = random.randint(1990, 2020)\n",
    "    years.append(year)\n",
    "\n",
    "    # Допиши фрагмент кода для генерации данных по образцу выше\n",
    "    # Годовая выручка фирмы (в диапазоне от 100000 до 10000000)\n",
    "\n",
    "\n",
    "    # Количество сотрудников в фирме (от 10 до 500)\n"
   ]
  },
  {
   "cell_type": "markdown",
   "id": "eecfb2a9",
   "metadata": {},
   "source": [
    "<hr style=\"border:1px solid red;\">\n",
    "<a id='solve1'></a>\n",
    "\n",
    "###  Решение "
   ]
  },
  {
   "cell_type": "code",
   "execution_count": 40,
   "id": "dfa55cf1",
   "metadata": {
    "id": "mzSBdbRYjCPb"
   },
   "outputs": [],
   "source": [
    "%%capture\n",
    "# Генерируем случайные данные для 1000 фирм\n",
    "for _ in range(1000):\n",
    "    # Год основания фирмы (от 1990 до 2020)\n",
    "    year = random.randint(1990, 2020)\n",
    "    years.append(year)\n",
    "\n",
    "    # Годовая выручка фирмы (в диапазоне от 100,000 до 10,000,000)\n",
    "    revenue = random.randint(100000, 10000000)\n",
    "    revenues.append(revenue)\n",
    "\n",
    "    # Количество сотрудников в фирме (от 10 до 500)\n",
    "    employee_count = random.randint(10, 500)\n",
    "    employees.append(employee_count)"
   ]
  },
  {
   "cell_type": "markdown",
   "id": "ad2fc048",
   "metadata": {},
   "source": [
    "<hr style=\"border:1px solid red;\">"
   ]
  },
  {
   "cell_type": "markdown",
   "id": "iHvAA2qglLuR",
   "metadata": {
    "id": "iHvAA2qglLuR"
   },
   "source": [
    "Далее данные необходимо разместить в файле формата csv.\n",
    "\n",
    "___CSV___ (от англ. Comma-Separated Values — значения, разделённые запятыми) - это текстовый файл с \"таблицей\" внутри.\n",
    "\n",
    "Каждая строчка файла - это как строчка таблицы. А значения строки по столбцам разделены запятой (или точкой с запятой для некоторых версий).\n",
    "\n",
    "Пример CSV-файла:\n",
    "\n",
    "```\n",
    "Номер, Год, Страна\n",
    "1, 2023, Россия\n",
    "```\n",
    "\n",
    "После открытия csv-файла в табличных редакторах, или после импорта его содержания в структуру данных мы увидим следующую картину:\n",
    "\n",
    "| Номер    | Год      | Страна   |\n",
    "|----------|----------|----------|\n",
    "| 1        | 2023     | Россия   |\n",
    "\n",
    "\n",
    "В коде ниже посмотрите, как необходимо указать названия столбцов и передать их для записи в файл.\n",
    "Выполните код и оцените результат.\n",
    "\n",
    "*В случае возникновения ошибки из-за несовпадений кодировок, можно заменить первую строку блока на <br>`with open('economic_data.csv', 'w', newline='', encoding=\"utf-8\") as csvfile:`*"
   ]
  },
  {
   "cell_type": "markdown",
   "id": "b8d98e9c",
   "metadata": {},
   "source": [
    "<a id=\"task2\"></a>\n",
    "\n",
    "### Задача №2: сгенерированные экономический данные для 1000 фирм, сохранить в файле __csv__ "
   ]
  },
  {
   "cell_type": "markdown",
   "id": "e1a5f71c",
   "metadata": {},
   "source": [
    "<a id=\"solve2\"></a>\n",
    "<hr style=\"border:1px solid red;\">\n",
    "\n",
    "###  Решение "
   ]
  },
  {
   "cell_type": "code",
   "execution_count": 9,
   "id": "c7523d77",
   "metadata": {
    "id": "c7523d77"
   },
   "outputs": [],
   "source": [
    "# Записываем данные в CSV файл\n",
    "with open('economic_data.csv', 'w', newline='') as csvfile:\n",
    "    fieldnames = ['Год основания', 'Годовая выручка', 'Количество сотрудников']\n",
    "    writer = csv.DictWriter(csvfile, fieldnames=fieldnames)\n",
    "\n",
    "    writer.writeheader()\n",
    "    for i in range(1000):\n",
    "        writer.writerow({'Год основания': years[i], 'Годовая выручка': revenues[i], 'Количество сотрудников': employees[i]})"
   ]
  },
  {
   "cell_type": "markdown",
   "id": "0ba7adf6",
   "metadata": {},
   "source": [
    "<hr style=\"border:1px solid red;\">"
   ]
  },
  {
   "cell_type": "markdown",
   "id": "de4c6232",
   "metadata": {},
   "source": [
    "<div style=\"border: 3px dotted red; text-align: center; padding: 10px;\">\n",
    "<b>Что проверяется в задании:</b>\n",
    "    \n",
    "Соответвие получивашегося файла .csv с исходным  \n",
    "Названия колонок: \"Год основания\", \"Годовая выручка\", \"Количество сотрудников\"\n",
    "</div>"
   ]
  },
  {
   "cell_type": "markdown",
   "id": "4a31f29c",
   "metadata": {
    "id": "4a31f29c"
   },
   "source": [
    "Для более удобной работы, после сохранения данных формате .csv следует преобразовать их в датафрейм используя бибилиотеку `pandas`.\n",
    "\n",
    "___Библиотека Pandas и датафреймы___\n",
    "\n",
    "___Pandas___ — это Python-библиотека, созданная специально для отображения, анализа и обработки структурированных данных.\n",
    "\n",
    "Название библиотеки расшифровывается как «panel data» или «панельные данные». Панельные данные - это как раз данные, представленные в виде таблиц и имеющие четкую структуру (структурированные).\n",
    "\n",
    "У библиотеки есть официальный сайт, на котором описано, как можно начать работу с этой библиотекой - [почитать тут](https://pandas.pydata.org/getting_started.html).\n",
    "\n",
    "___Датафреймы___ (тип данных ___DataFrame___ из библиотеки Pandas) — это таблица со строками и столбцами, которая похожий на таблицу из приложения Excel. В это типе данных мы сможем разместить данные их нашего csv-файла и потом их обрабатывать: сортировать, группировать, производить вычисления.\n",
    "\n",
    "Начнем работу с этой библиотекой с ее импорта в файл проекта ` import pandas `.\n",
    "\n",
    "Для более краткого обращения к библиотеке из кода проекта указываем короткое имя `pd` - ` import pandas as pd `.\n",
    "\n",
    "Прочитаем содержимое датафрейма в переменную `df`, используя функцию `pd.read_csv('economic_data.csv')`.\n",
    "\n",
    "Обратите внимание, что для доступа к функции `pd.read_csv()` мы сначала указываем краткое имя библиотеки, а в качестве аргумента - имя csv-файла, в котором размещен датафрейм."
   ]
  },
  {
   "cell_type": "code",
   "execution_count": 11,
   "id": "1cffa0ac",
   "metadata": {
    "id": "1cffa0ac"
   },
   "outputs": [],
   "source": [
    "import pandas as pd\n",
    "df = pd.read_csv('economic_data.csv')"
   ]
  },
  {
   "cell_type": "markdown",
   "id": "XjvvFJ3JP0tB",
   "metadata": {
    "id": "XjvvFJ3JP0tB"
   },
   "source": [
    "Проверим, что все загрузилось правильно, и выведем первые 5 записей датафрейма."
   ]
  },
  {
   "cell_type": "code",
   "execution_count": 12,
   "id": "75d1b0a2",
   "metadata": {
    "id": "75d1b0a2",
    "outputId": "5afb4bc7-4015-4326-8b73-fd67d25b25cb"
   },
   "outputs": [
    {
     "data": {
      "text/html": [
       "<div>\n",
       "<style scoped>\n",
       "    .dataframe tbody tr th:only-of-type {\n",
       "        vertical-align: middle;\n",
       "    }\n",
       "\n",
       "    .dataframe tbody tr th {\n",
       "        vertical-align: top;\n",
       "    }\n",
       "\n",
       "    .dataframe thead th {\n",
       "        text-align: right;\n",
       "    }\n",
       "</style>\n",
       "<table border=\"1\" class=\"dataframe\">\n",
       "  <thead>\n",
       "    <tr style=\"text-align: right;\">\n",
       "      <th></th>\n",
       "      <th>Год основания</th>\n",
       "      <th>Годовая выручка</th>\n",
       "      <th>Количество сотрудников</th>\n",
       "    </tr>\n",
       "  </thead>\n",
       "  <tbody>\n",
       "    <tr>\n",
       "      <th>0</th>\n",
       "      <td>2010</td>\n",
       "      <td>4332413</td>\n",
       "      <td>437</td>\n",
       "    </tr>\n",
       "    <tr>\n",
       "      <th>1</th>\n",
       "      <td>1993</td>\n",
       "      <td>7990439</td>\n",
       "      <td>19</td>\n",
       "    </tr>\n",
       "    <tr>\n",
       "      <th>2</th>\n",
       "      <td>1990</td>\n",
       "      <td>9149949</td>\n",
       "      <td>36</td>\n",
       "    </tr>\n",
       "    <tr>\n",
       "      <th>3</th>\n",
       "      <td>2013</td>\n",
       "      <td>5971360</td>\n",
       "      <td>124</td>\n",
       "    </tr>\n",
       "    <tr>\n",
       "      <th>4</th>\n",
       "      <td>1998</td>\n",
       "      <td>1251225</td>\n",
       "      <td>409</td>\n",
       "    </tr>\n",
       "  </tbody>\n",
       "</table>\n",
       "</div>"
      ],
      "text/plain": [
       "   Год основания  Годовая выручка  Количество сотрудников\n",
       "0           2010          4332413                     437\n",
       "1           1993          7990439                      19\n",
       "2           1990          9149949                      36\n",
       "3           2013          5971360                     124\n",
       "4           1998          1251225                     409"
      ]
     },
     "execution_count": 12,
     "metadata": {},
     "output_type": "execute_result"
    }
   ],
   "source": [
    "df.head()"
   ]
  },
  {
   "cell_type": "markdown",
   "id": "Wnz8qbFOP52i",
   "metadata": {
    "id": "Wnz8qbFOP52i"
   },
   "source": [
    "Теперь давайте выведем описание прочтенных данных.\n",
    "\n",
    "Функции, которые могут пригодиться при решении: `.describe()`"
   ]
  },
  {
   "cell_type": "code",
   "execution_count": 13,
   "id": "-l7Fg_03P7wV",
   "metadata": {
    "id": "-l7Fg_03P7wV"
   },
   "outputs": [
    {
     "data": {
      "text/html": [
       "<div>\n",
       "<style scoped>\n",
       "    .dataframe tbody tr th:only-of-type {\n",
       "        vertical-align: middle;\n",
       "    }\n",
       "\n",
       "    .dataframe tbody tr th {\n",
       "        vertical-align: top;\n",
       "    }\n",
       "\n",
       "    .dataframe thead th {\n",
       "        text-align: right;\n",
       "    }\n",
       "</style>\n",
       "<table border=\"1\" class=\"dataframe\">\n",
       "  <thead>\n",
       "    <tr style=\"text-align: right;\">\n",
       "      <th></th>\n",
       "      <th>Год основания</th>\n",
       "      <th>Годовая выручка</th>\n",
       "      <th>Количество сотрудников</th>\n",
       "    </tr>\n",
       "  </thead>\n",
       "  <tbody>\n",
       "    <tr>\n",
       "      <th>count</th>\n",
       "      <td>1000.000000</td>\n",
       "      <td>1.000000e+03</td>\n",
       "      <td>1000.000000</td>\n",
       "    </tr>\n",
       "    <tr>\n",
       "      <th>mean</th>\n",
       "      <td>2005.086000</td>\n",
       "      <td>5.174739e+06</td>\n",
       "      <td>254.614000</td>\n",
       "    </tr>\n",
       "    <tr>\n",
       "      <th>std</th>\n",
       "      <td>8.970567</td>\n",
       "      <td>2.869787e+06</td>\n",
       "      <td>136.943625</td>\n",
       "    </tr>\n",
       "    <tr>\n",
       "      <th>min</th>\n",
       "      <td>1990.000000</td>\n",
       "      <td>1.193110e+05</td>\n",
       "      <td>12.000000</td>\n",
       "    </tr>\n",
       "    <tr>\n",
       "      <th>25%</th>\n",
       "      <td>1997.000000</td>\n",
       "      <td>2.649076e+06</td>\n",
       "      <td>143.000000</td>\n",
       "    </tr>\n",
       "    <tr>\n",
       "      <th>50%</th>\n",
       "      <td>2005.000000</td>\n",
       "      <td>5.348274e+06</td>\n",
       "      <td>252.000000</td>\n",
       "    </tr>\n",
       "    <tr>\n",
       "      <th>75%</th>\n",
       "      <td>2013.000000</td>\n",
       "      <td>7.660033e+06</td>\n",
       "      <td>366.000000</td>\n",
       "    </tr>\n",
       "    <tr>\n",
       "      <th>max</th>\n",
       "      <td>2020.000000</td>\n",
       "      <td>9.995027e+06</td>\n",
       "      <td>500.000000</td>\n",
       "    </tr>\n",
       "  </tbody>\n",
       "</table>\n",
       "</div>"
      ],
      "text/plain": [
       "       Год основания  Годовая выручка  Количество сотрудников\n",
       "count    1000.000000     1.000000e+03             1000.000000\n",
       "mean     2005.086000     5.174739e+06              254.614000\n",
       "std         8.970567     2.869787e+06              136.943625\n",
       "min      1990.000000     1.193110e+05               12.000000\n",
       "25%      1997.000000     2.649076e+06              143.000000\n",
       "50%      2005.000000     5.348274e+06              252.000000\n",
       "75%      2013.000000     7.660033e+06              366.000000\n",
       "max      2020.000000     9.995027e+06              500.000000"
      ]
     },
     "execution_count": 13,
     "metadata": {},
     "output_type": "execute_result"
    }
   ],
   "source": [
    "df.describe()"
   ]
  },
  {
   "cell_type": "markdown",
   "id": "WyplL4POP-KR",
   "metadata": {
    "id": "WyplL4POP-KR"
   },
   "source": [
    "Рекомендуем вам так же изучить другие описательные функции для датафреймов - [почитать тут.](https://pandas.pydata.org/pandas-docs/stable/reference/frame.html#computations-descriptive-stats)"
   ]
  },
  {
   "cell_type": "markdown",
   "id": "d09c8359",
   "metadata": {
    "id": "d09c8359"
   },
   "source": [
    "<a id=\"chapter2\"></a>\n",
    "\n",
    "# Статистический анализ"
   ]
  },
  {
   "cell_type": "markdown",
   "id": "e3b76f2d",
   "metadata": {
    "id": "e3b76f2d"
   },
   "source": [
    "Теперь у тебя есть данные - можно приступать к их анализу.\n",
    "\n",
    "Ученик Андрей спланировал\n",
    "\n",
    "- Рассчитайте средние значения и медианы для каждой переменной.\n",
    "- Постройте гистограммы и оценки плотности для годовой выручки и количества сотрудников.\n",
    "- Вычислите корреляции между годом основания и годовой выручкой фирмы.\n",
    "- Выявите фирмы, которые считаются стартапами (фирмы, основанные после 2010 года, с выручкой менее 1,000,000 и менее чем 50 сотрудниками) и определите их процентное соотношение от общего числа фирм."
   ]
  },
  {
   "cell_type": "markdown",
   "id": "2f3a3dd2",
   "metadata": {
    "id": "2f3a3dd2"
   },
   "source": [
    "### Cредние значения и медианы"
   ]
  },
  {
   "cell_type": "markdown",
   "id": "cdfdd915",
   "metadata": {
    "id": "cdfdd915"
   },
   "source": [
    "Как считается среднее значение"
   ]
  },
  {
   "cell_type": "markdown",
   "id": "c4b23c9f",
   "metadata": {
    "id": "c4b23c9f"
   },
   "source": [
    "<center><img src=\"https://github.com/sunnysubmarines/nto/blob/main/images/fig_1.png?raw=1\" alt=\"Description of the image\" width=\"300\" height=\"300\"/></center>"
   ]
  },
  {
   "cell_type": "markdown",
   "id": "a03466bf",
   "metadata": {
    "id": "a03466bf"
   },
   "source": [
    "<center><img src=\"https://github.com/sunnysubmarines/nto/blob/main/images/fig_2.png?raw=1\" alt=\"Description of the image\" width=\"300\" height=\"300\"/></center>"
   ]
  },
  {
   "cell_type": "markdown",
   "id": "ba46bf56",
   "metadata": {
    "id": "ba46bf56"
   },
   "source": [
    "Как считается медиана"
   ]
  },
  {
   "cell_type": "markdown",
   "id": "87454dab",
   "metadata": {
    "id": "87454dab"
   },
   "source": [
    "<center><img src=\"https://github.com/sunnysubmarines/nto/blob/main/images/fig_3.png?raw=1\" alt=\"Description of the image\" width=\"400\" height=\"300\"/></center>"
   ]
  },
  {
   "cell_type": "markdown",
   "id": "37414c4e",
   "metadata": {
    "id": "37414c4e"
   },
   "source": [
    "<blockquote>Медиана — это значение, которое разделяет упорядоченный набор данных на две равные половины. Для расчета медианы в упорядоченном наборе данных, количество элементов которого нечетное, медиана - это значение, которое находится в середине упорядоченного списка. Если количество элементов четное, медиана - это среднее арифметическое двух центральных значений.\n",
    "\n",
    "Для набора данных X длиной n, где  n - нечетное число, медиана  M рассчитывается следующим образом: </blockquote>"
   ]
  },
  {
   "cell_type": "markdown",
   "id": "d42d893b",
   "metadata": {
    "id": "d42d893b"
   },
   "source": [
    "Если  n нечетное:"
   ]
  },
  {
   "cell_type": "markdown",
   "id": "63654aa8",
   "metadata": {
    "id": "63654aa8"
   },
   "source": [
    "$$\n",
    "M = X * (n+1)/2\n",
    "$$"
   ]
  },
  {
   "cell_type": "markdown",
   "id": "bbdcf9d6",
   "metadata": {
    "id": "bbdcf9d6"
   },
   "source": [
    "Если n четное:"
   ]
  },
  {
   "cell_type": "markdown",
   "id": "55e1d50a",
   "metadata": {
    "id": "55e1d50a"
   },
   "source": [
    "$$\n",
    "M = (X * n/2 + X(n/2 +1))/2\n",
    "$$"
   ]
  },
  {
   "cell_type": "markdown",
   "id": "4e8a6109",
   "metadata": {
    "id": "4e8a6109"
   },
   "source": [
    "Здесь  X(i) представляет собой  i-е значение в упорядоченном наборе данных  X."
   ]
  },
  {
   "cell_type": "markdown",
   "id": "c5fa6818",
   "metadata": {
    "id": "c5fa6818"
   },
   "source": [
    "**Пожалуйста, обратите внимание, что перед вычислением медианы набор данных обычно сортируется по возрастанию или убыванию.**"
   ]
  },
  {
   "cell_type": "markdown",
   "id": "9c750f2c",
   "metadata": {},
   "source": [
    "<a id=\"task3\"></a>\n",
    "\n",
    "### Задача №3: Расчитайте среднее значение и медианное для всех колонок"
   ]
  },
  {
   "cell_type": "markdown",
   "id": "97ed2351",
   "metadata": {},
   "source": [
    "<a id=\"solve3\"></a>\n",
    "<hr style=\"border:1px solid red;\">\n",
    "\n",
    "###  Решение "
   ]
  },
  {
   "cell_type": "code",
   "execution_count": 36,
   "id": "63b2fced",
   "metadata": {},
   "outputs": [],
   "source": [
    "# Расчет среднего значения для каждой переменной\n",
    "average_year = df['Год основания'].mean()\n",
    "average_revenue = df['Годовая выручка'].mean()\n",
    "average_employees = df['Количество сотрудников'].mean()"
   ]
  },
  {
   "cell_type": "code",
   "execution_count": 37,
   "id": "e6beafb4",
   "metadata": {
    "id": "e6beafb4",
    "scrolled": true
   },
   "outputs": [],
   "source": [
    "median_year = df['Год основания'].median()\n",
    "median_revenue = df['Годовая выручка'].median()\n",
    "median_employees = df['Количество сотрудников'].median()\n"
   ]
  },
  {
   "cell_type": "code",
   "execution_count": 39,
   "id": "0c30f177",
   "metadata": {},
   "outputs": [
    {
     "name": "stdout",
     "output_type": "stream",
     "text": [
      "2005.09 5174738.95 254.61\n",
      "2005.0 5348274.5 252.0\n"
     ]
    }
   ],
   "source": [
    "print(round(average_year,2), round(average_revenue,2), round(average_employees,2) )\n",
    "print(round(median_year,2), round(median_revenue,2), round(median_employees,2) )"
   ]
  },
  {
   "cell_type": "markdown",
   "id": "27a485cb",
   "metadata": {},
   "source": [
    "<hr style=\"border:1px solid red;\">"
   ]
  },
  {
   "cell_type": "markdown",
   "id": "ca576993",
   "metadata": {},
   "source": [
    "<div style=\"border: 3px dotted red; text-align: center; padding: 10px;\">\n",
    "<b>Что проверяется в задании:</b>\n",
    "    \n",
    "Соответвие вывода (округление (используйте ```round```) до десятых):\n",
    "    \n",
    "2005.09 5174738.95 254.61\n",
    "    \n",
    "2005.0 5348274.5 252.0\n",
    "    \n",
    "</div>"
   ]
  },
  {
   "cell_type": "markdown",
   "id": "b837fc5d",
   "metadata": {
    "id": "b837fc5d"
   },
   "source": [
    "<a id=\"chapter3\"></a>\n",
    "\n",
    "# Гистограммы и оценки плотности для годовой выручки и количества сотрудников"
   ]
  },
  {
   "cell_type": "markdown",
   "id": "25ab9611",
   "metadata": {},
   "source": [
    "Две основные бибилотеки для построения диаграмм это matplotlib и seaborn.\n",
    "\n",
    "Сначала необходимо их подключть."
   ]
  },
  {
   "cell_type": "code",
   "execution_count": 16,
   "id": "9ce90f18",
   "metadata": {
    "id": "9ce90f18"
   },
   "outputs": [],
   "source": [
    "import matplotlib.pyplot as plt\n",
    "import seaborn as sns"
   ]
  },
  {
   "cell_type": "markdown",
   "id": "628b82b6",
   "metadata": {
    "id": "628b82b6"
   },
   "source": [
    "Для построения линейного графика по точкам используется функция plot():"
   ]
  },
  {
   "cell_type": "code",
   "execution_count": 19,
   "id": "08dce20b",
   "metadata": {
    "id": "08dce20b",
    "outputId": "35ca2e19-247c-4d7c-ec5a-a9f00a27276f"
   },
   "outputs": [
    {
     "data": {
      "image/png": "[encoded data removed]",
      "text/plain": [
       "<Figure size 432x288 with 1 Axes>"
      ]
     },
     "metadata": {
      "needs_background": "light"
     },
     "output_type": "display_data"
    }
   ],
   "source": [
    "plt.plot(\n",
    "    [1, 2, 3, 4, 5, 6],      # X координаты.\n",
    "    [6, 5, 6, 4, 2, 1]       # Y координаты.\n",
    ")\n",
    "\n",
    "plt.show()                   # Показать график."
   ]
  },
  {
   "cell_type": "markdown",
   "id": "eb5d56e5",
   "metadata": {
    "id": "eb5d56e5"
   },
   "source": [
    "<blockquote>Для отрисовки нескольких линий на одном графике нужно просто использовать несколько функций **`plot()`**:</blockquote>"
   ]
  },
  {
   "cell_type": "code",
   "execution_count": 20,
   "id": "fb3e8208",
   "metadata": {
    "id": "fb3e8208",
    "outputId": "beda49f9-aaf5-4aad-f2e4-3aef22495eec",
    "scrolled": true
   },
   "outputs": [
    {
     "data": {
      "image/png": "[encoded data removed]",
      "text/plain": [
       "<Figure size 432x288 with 1 Axes>"
      ]
     },
     "metadata": {
      "needs_background": "light"
     },
     "output_type": "display_data"
    }
   ],
   "source": [
    "plt.plot(\n",
    "    [1, 2, 3, 4, 5, 6],\n",
    "    [6, 2, 4, 3, 5, 1]\n",
    ")\n",
    "\n",
    "plt.plot(\n",
    "    [1, 2, 3, 4, 5, 6],\n",
    "    [1, 3, 3, 4, 6, 3]\n",
    ")\n",
    "\n",
    "plt.show()"
   ]
  },
  {
   "cell_type": "markdown",
   "id": "f70b534a",
   "metadata": {
    "id": "f70b534a"
   },
   "source": [
    " <blockquote>В matplotlib возможно настроить внешний вид графика с помощью параметров:</blockquote>"
   ]
  },
  {
   "cell_type": "code",
   "execution_count": 21,
   "id": "ffd3b422",
   "metadata": {
    "id": "ffd3b422",
    "outputId": "e308cd40-f11a-422c-ba5a-80ad1bd5bb0f"
   },
   "outputs": [
    {
     "data": {
      "image/png": "[encoded data removed]",
      "text/plain": [
       "<Figure size 432x288 with 1 Axes>"
      ]
     },
     "metadata": {
      "needs_background": "light"
     },
     "output_type": "display_data"
    }
   ],
   "source": [
    "plt.plot(\n",
    "    [1, 2, 3, 4, 5, 6],\n",
    "    [1, 3, 3, 4, 6, 3],\n",
    "    linewidth = 6,               # Толщина линии.\n",
    "    color = 'orange',            # Цвет линии\n",
    "    linestyle = '--'             # Тип линии: '-', '--', '-.', ':', ''.\n",
    ")\n",
    "\n",
    "plt.plot(\n",
    "    [1, 2.5, 4, 5],\n",
    "    [6, 2, 5, 3],\n",
    "    color = 'green',\n",
    "    marker = 'o',                # Тип маркера\n",
    "    markersize = 10,             # Размер маркера.\n",
    "    markerfacecolor = 'red'      # Цвет маркера.\n",
    ")\n",
    "\n",
    "plt.plot(\n",
    "    [2, 6],\n",
    "    [5, 1],\n",
    "    linewidth = 12,\n",
    "    alpha = 0.6                  #  Степень непрозрачности линии\n",
    ")                                #  от 0  до 1 .\n",
    "\n",
    "plt.show()"
   ]
  },
  {
   "cell_type": "markdown",
   "id": "403516cb",
   "metadata": {
    "id": "403516cb"
   },
   "source": [
    " <blockquote>bar используется для построения столбчатой диаграммы:</blockquote>"
   ]
  },
  {
   "cell_type": "code",
   "execution_count": 22,
   "id": "b79cbf0f",
   "metadata": {
    "id": "b79cbf0f",
    "outputId": "c5457c3b-c569-4cda-ae96-c7e2e4e9eb30"
   },
   "outputs": [
    {
     "data": {
      "image/png": "[encoded data removed]",
      "text/plain": [
       "<Figure size 432x288 with 1 Axes>"
      ]
     },
     "metadata": {
      "needs_background": "light"
     },
     "output_type": "display_data"
    }
   ],
   "source": [
    "plt.bar(\n",
    "    [1, 2, 3, 4, 5, 6],      # X координаты центров столбцов.\n",
    "    [6, 2, 4, 3, 5, 1]       # Высота столбцов.\n",
    ")\n",
    "\n",
    "plt.show()"
   ]
  },
  {
   "cell_type": "code",
   "execution_count": 23,
   "id": "0595c40e",
   "metadata": {
    "id": "0595c40e",
    "outputId": "1dee574c-61d9-4b13-855e-7275421216c1",
    "scrolled": true
   },
   "outputs": [
    {
     "data": {
      "image/png": "[encoded data removed]",
      "text/plain": [
       "<Figure size 432x288 with 1 Axes>"
      ]
     },
     "metadata": {
      "needs_background": "light"
     },
     "output_type": "display_data"
    }
   ],
   "source": [
    "plt.bar(\n",
    "    [1, 2, 3, 4, 5, 6],\n",
    "    [6, 2, 4, 3, 5, 1],\n",
    "    width = [0.2, 0.6, 1, 1, 0.4, 0.1]      # Ширина (толщина) столбцов от 0 до 1 (по умолчанию = 0.8).\n",
    ")                                           # Если все столбцы одинаковой ширины, можно написать просто одно число.\n",
    "\n",
    "plt.show()"
   ]
  },
  {
   "cell_type": "code",
   "execution_count": 24,
   "id": "ba3e6947",
   "metadata": {
    "id": "ba3e6947",
    "outputId": "6221cf9e-aa04-445c-8277-9d4126ff7746"
   },
   "outputs": [
    {
     "data": {
      "image/png": "[encoded data removed]",
      "text/plain": [
       "<Figure size 432x288 with 1 Axes>"
      ]
     },
     "metadata": {
      "needs_background": "light"
     },
     "output_type": "display_data"
    }
   ],
   "source": [
    "plt.bar(\n",
    "    [1, 2, 3, 4, 5, 6],\n",
    "    [6, 2, 4, 3, 5, 1],\n",
    "    width = 0.3,\n",
    "    color = [                # Список названий цветов, либо название\n",
    "        'red',               # одного цвета, если все одинаковые.\n",
    "        'orange',\n",
    "        'khaki',\n",
    "        'yellow',\n",
    "        'skyblue',\n",
    "        'blue'\n",
    "    ]\n",
    ")\n",
    "\n",
    "plt.show()"
   ]
  },
  {
   "cell_type": "markdown",
   "id": "8279afda",
   "metadata": {},
   "source": [
    "<a id=\"task4\"></a>\n",
    "\n",
    "### Задача №4. Гистограмма и оценка плотности для годовой выручки"
   ]
  },
  {
   "cell_type": "markdown",
   "id": "7dbe9b91",
   "metadata": {},
   "source": [
    "Постройте гистограимму оценки плотности для годовой выручки и оценки плотности для количества сотрудников"
   ]
  },
  {
   "cell_type": "markdown",
   "id": "0741b15e",
   "metadata": {},
   "source": [
    "<hr style=\"border:1px solid red;\">\n",
    "<a id='solve4'></a>\n",
    "\n",
    "###  Решение "
   ]
  },
  {
   "cell_type": "code",
   "execution_count": 25,
   "id": "5e7a6f77",
   "metadata": {
    "id": "5e7a6f77",
    "outputId": "5d4864af-b5e7-4bf1-f679-4331a0ea3bfd"
   },
   "outputs": [
    {
     "data": {
      "image/png": "[encoded data removed]",
      "text/plain": [
       "<Figure size 864x432 with 2 Axes>"
      ]
     },
     "metadata": {
      "needs_background": "light"
     },
     "output_type": "display_data"
    }
   ],
   "source": [
    "plt.figure(figsize=(12, 6))\n",
    "\n",
    "# Гистограмма и оценка плотности для годовой выручки\n",
    "plt.subplot(1, 2, 1)\n",
    "plt.hist(df['Годовая выручка'], bins=30, alpha=0.7, color='blue', edgecolor='black', density=True)\n",
    "plt.title('Гистограмма и оценка плотности для годовой выручки')\n",
    "plt.xlabel('Годовая выручка')\n",
    "plt.ylabel('Плотность')\n",
    "plt.grid(True)\n",
    "\n",
    "# Гистограмма и оценка плотности для количества сотрудников\n",
    "plt.subplot(1, 2, 2)\n",
    "plt.hist(df['Количество сотрудников'], bins=30, alpha=0.7, color='green', edgecolor='black', density=True)\n",
    "plt.title('Гистограмма и оценка плотности для количества сотрудников')\n",
    "plt.xlabel('Количество сотрудников')\n",
    "plt.ylabel('Плотность')\n",
    "plt.grid(True)\n",
    "\n",
    "# Отображение графиков\n",
    "plt.tight_layout()\n",
    "plt.show()"
   ]
  },
  {
   "cell_type": "markdown",
   "id": "99ca1e02",
   "metadata": {
    "id": "99ca1e02"
   },
   "source": [
    "#### Построение графика seaborn"
   ]
  },
  {
   "cell_type": "code",
   "execution_count": 23,
   "id": "fe55ceda",
   "metadata": {
    "id": "fe55ceda",
    "outputId": "f22468ac-a6e3-4b37-9780-573c9fcb846f"
   },
   "outputs": [
    {
     "data": {
      "image/png": "[encoded data removed]",
      "text/plain": [
       "<Figure size 864x432 with 2 Axes>"
      ]
     },
     "metadata": {
      "needs_background": "light"
     },
     "output_type": "display_data"
    }
   ],
   "source": [
    "plt.figure(figsize=(12, 6))\n",
    "plt.subplot(1, 2, 1)\n",
    "sns.histplot(df['Годовая выручка'], kde=True, bins=30)\n",
    "plt.title('Гистограмма и оценка плотности для годовой выручки')\n",
    "plt.xlabel('Годовая выручка')\n",
    "plt.ylabel('Плотность')\n",
    "\n",
    "# Построение гистограммы и оценки плотности для количества сотрудников\n",
    "plt.subplot(1, 2, 2)\n",
    "sns.histplot(df['Количество сотрудников'], kde=True, bins=30)\n",
    "plt.title('Гистограмма и оценка плотности для количества сотрудников')\n",
    "plt.xlabel('Количество сотрудников')\n",
    "plt.ylabel('Плотность')\n",
    "\n",
    "# Отображение графиков\n",
    "plt.tight_layout()\n",
    "plt.show()"
   ]
  },
  {
   "cell_type": "markdown",
   "id": "a1ea197b",
   "metadata": {},
   "source": [
    "<hr style=\"border:1px solid red;\">"
   ]
  },
  {
   "cell_type": "markdown",
   "id": "b8a456f6",
   "metadata": {},
   "source": [
    "<div style=\"border: 3px dotted red; text-align: center; padding: 10px;\">\n",
    "<b>Что проверяется в задании:</b>\n",
    "    \n",
    "Визуальное сравнение диаграмм\n",
    "    \n",
    "</div>"
   ]
  },
  {
   "cell_type": "markdown",
   "id": "a3fa36b5",
   "metadata": {
    "id": "a3fa36b5"
   },
   "source": [
    "### Корреляции между годом основания и годовой выручкой фирмы."
   ]
  },
  {
   "cell_type": "markdown",
   "id": "qiVttpM5PxkK",
   "metadata": {
    "id": "qiVttpM5PxkK"
   },
   "source": [
    "*Корреляция - это способ изучать, как величины изменяются вместе. Если две величины коррелируют, это означает, что, когда одна из них меняется, другая тоже меняется, но это не обязательно значит, что одна из них вызывает изменения в другой.*"
   ]
  },
  {
   "cell_type": "markdown",
   "id": "bd947135",
   "metadata": {},
   "source": [
    "<a id=\"task5\"></a>\n",
    "\n",
    "### Задача №5. Расчитайте значение корреляции между полями 'Год основания' и 'Годовая выручка'"
   ]
  },
  {
   "cell_type": "markdown",
   "id": "4813c8a8",
   "metadata": {},
   "source": [
    "<hr style=\"border:1px solid red;\">\n",
    "<a id='solve5'></a>\n",
    "\n",
    "###  Решение "
   ]
  },
  {
   "cell_type": "code",
   "execution_count": 28,
   "id": "97cc5f3f",
   "metadata": {
    "id": "97cc5f3f"
   },
   "outputs": [],
   "source": [
    "correlation = df['Год основания'].corr(df['Годовая выручка'])"
   ]
  },
  {
   "cell_type": "code",
   "execution_count": 29,
   "id": "b1ad2459",
   "metadata": {
    "id": "b1ad2459",
    "outputId": "b4685be3-e12a-424d-9f11-3b14f1e0b125"
   },
   "outputs": [
    {
     "data": {
      "text/plain": [
       "0.015684354966626377"
      ]
     },
     "execution_count": 29,
     "metadata": {},
     "output_type": "execute_result"
    }
   ],
   "source": [
    "correlation"
   ]
  },
  {
   "cell_type": "markdown",
   "id": "a1087d81",
   "metadata": {},
   "source": [
    "<hr style=\"border:1px solid red;\">"
   ]
  },
  {
   "cell_type": "markdown",
   "id": "279643c8",
   "metadata": {},
   "source": [
    "<div style=\"border: 3px dotted red; text-align: center; padding: 10px;\">\n",
    "<b>Что проверяется в задании:</b>\n",
    "    \n",
    "Соответвие вывода, без округления:\n",
    "    \n",
    "0.015684354966626377\n",
    "    \n",
    "</div>"
   ]
  },
  {
   "cell_type": "markdown",
   "id": "5e771203",
   "metadata": {},
   "source": [
    "Если вы вывести в значения корреляции в графическом формате можно использовать код ниже"
   ]
  },
  {
   "cell_type": "code",
   "execution_count": 31,
   "id": "e0ec00c5",
   "metadata": {
    "id": "e0ec00c5",
    "outputId": "29130f00-d2d1-4553-e649-781083c6813b"
   },
   "outputs": [
    {
     "data": {
      "image/png": "[encoded data removed]",
      "text/plain": [
       "<Figure size 720x576 with 2 Axes>"
      ]
     },
     "metadata": {
      "needs_background": "light"
     },
     "output_type": "display_data"
    }
   ],
   "source": [
    "correlation_matrix = df.corr()\n",
    "\n",
    "\n",
    "plt.figure(figsize=(10, 8))\n",
    "sns.heatmap(data=correlation_matrix, annot=True, cmap='coolwarm', linewidths=.5)\n",
    "plt.title('График корреляции между переменными')\n",
    "plt.show()"
   ]
  },
  {
   "cell_type": "markdown",
   "id": "3d2930ba",
   "metadata": {},
   "source": [
    "<a id=\"task6\"></a>\n",
    "\n",
    "### Задача №6. Найдите количество стартапов в наборе данных"
   ]
  },
  {
   "cell_type": "markdown",
   "id": "4a864a17",
   "metadata": {},
   "source": [
    "Стартап - это организации, соответвующие параметрам:\n",
    "\n",
    "    - год основания от 2010\n",
    "    - годовая выручка до 100000\n",
    "    - количество сотрудников до 50 человек\n",
    "    \n",
    "Требутся расчитать следущие показатели:\n",
    "\n",
    "    - всего фирм\n",
    "    - кол-во стартапов\n",
    "    - процент стартапов от всех фирм"
   ]
  },
  {
   "cell_type": "markdown",
   "id": "221f9c8a",
   "metadata": {},
   "source": [
    "<hr style=\"border:1px solid red;\">\n",
    "<a id='solve6'></a>\n",
    "\n",
    "###  Решение "
   ]
  },
  {
   "cell_type": "code",
   "execution_count": 42,
   "id": "cfd01f22",
   "metadata": {
    "id": "cfd01f22",
    "outputId": "adbe529f-241d-4b54-8116-97f052b9a3db"
   },
   "outputs": [
    {
     "name": "stdout",
     "output_type": "stream",
     "text": [
      "1000 1 0.1\n"
     ]
    }
   ],
   "source": [
    "startups = df[(df['Год основания'] > 2010) & (df['Годовая выручка'] < 1000000) & (df['Количество сотрудников'] < 50)]\n",
    "\n",
    "total_firms = len(df)\n",
    "startup_firms = len(startups)\n",
    "percentage_startups = (startup_firms / total_firms) * 100\n",
    "\n",
    "print(total_firms, startup_firms,percentage_startups )"
   ]
  },
  {
   "cell_type": "markdown",
   "id": "fcf0e6a0",
   "metadata": {},
   "source": [
    "<hr style=\"border:1px solid red;\">"
   ]
  },
  {
   "cell_type": "markdown",
   "id": "5f71538e",
   "metadata": {},
   "source": [
    "<div style=\"border: 3px dotted red; text-align: center; padding: 10px;\">\n",
    "<b>Что проверяется в задании:</b>\n",
    "    \n",
    "Соответвие вывода, без округления:\n",
    "    \n",
    "1000 1 0.1\n",
    "    \n",
    "</div>"
   ]
  },
  {
   "cell_type": "markdown",
   "id": "4ec4668a",
   "metadata": {
    "id": "4ec4668a"
   },
   "source": [
    "Опишите основные характеристики выборки и найденные статистические закономерности."
   ]
  },
  {
   "cell_type": "markdown",
   "id": "abdaafe4",
   "metadata": {},
   "source": [
    "<a id=\"task7\"></a>\n",
    "\n",
    "### Задача №7. Каково среднее время существования фирм в выборке?"
   ]
  },
  {
   "cell_type": "code",
   "execution_count": 46,
   "id": "fe0f0430",
   "metadata": {},
   "outputs": [],
   "source": [
    "current_year = 2023"
   ]
  },
  {
   "cell_type": "markdown",
   "id": "f0dbfad3",
   "metadata": {},
   "source": [
    "<hr style=\"border:1px solid red;\">\n",
    "<a id='solve7'></a>\n",
    "\n",
    "###  Решение "
   ]
  },
  {
   "cell_type": "code",
   "execution_count": 55,
   "id": "0e7a624b",
   "metadata": {
    "id": "0e7a624b",
    "outputId": "f866489d-3e5f-427b-c90f-cad768dea8c6"
   },
   "outputs": [
    {
     "ename": "KeyError",
     "evalue": "'Год основания'",
     "output_type": "error",
     "traceback": [
      "\u001b[0;31m---------------------------------------------------------------------------\u001b[0m",
      "\u001b[0;31mKeyError\u001b[0m                                  Traceback (most recent call last)",
      "\u001b[0;32m/usr/local/anaconda3/lib/python3.8/site-packages/pandas/core/indexes/base.py\u001b[0m in \u001b[0;36mget_loc\u001b[0;34m(self, key, method, tolerance)\u001b[0m\n\u001b[1;32m   3628\u001b[0m             \u001b[0;32mtry\u001b[0m\u001b[0;34m:\u001b[0m\u001b[0;34m\u001b[0m\u001b[0;34m\u001b[0m\u001b[0m\n\u001b[0;32m-> 3629\u001b[0;31m                 \u001b[0;32mreturn\u001b[0m \u001b[0mself\u001b[0m\u001b[0;34m.\u001b[0m\u001b[0m_engine\u001b[0m\u001b[0;34m.\u001b[0m\u001b[0mget_loc\u001b[0m\u001b[0;34m(\u001b[0m\u001b[0mcasted_key\u001b[0m\u001b[0;34m)\u001b[0m\u001b[0;34m\u001b[0m\u001b[0;34m\u001b[0m\u001b[0m\n\u001b[0m\u001b[1;32m   3630\u001b[0m             \u001b[0;32mexcept\u001b[0m \u001b[0mKeyError\u001b[0m \u001b[0;32mas\u001b[0m \u001b[0merr\u001b[0m\u001b[0;34m:\u001b[0m\u001b[0;34m\u001b[0m\u001b[0;34m\u001b[0m\u001b[0m\n",
      "\u001b[0;32m/usr/local/anaconda3/lib/python3.8/site-packages/pandas/_libs/index.pyx\u001b[0m in \u001b[0;36mpandas._libs.index.IndexEngine.get_loc\u001b[0;34m()\u001b[0m\n",
      "\u001b[0;32m/usr/local/anaconda3/lib/python3.8/site-packages/pandas/_libs/index.pyx\u001b[0m in \u001b[0;36mpandas._libs.index.IndexEngine.get_loc\u001b[0;34m()\u001b[0m\n",
      "\u001b[0;32mpandas/_libs/hashtable_class_helper.pxi\u001b[0m in \u001b[0;36mpandas._libs.hashtable.PyObjectHashTable.get_item\u001b[0;34m()\u001b[0m\n",
      "\u001b[0;32mpandas/_libs/hashtable_class_helper.pxi\u001b[0m in \u001b[0;36mpandas._libs.hashtable.PyObjectHashTable.get_item\u001b[0;34m()\u001b[0m\n",
      "\u001b[0;31mKeyError\u001b[0m: 'Год основания'",
      "\nThe above exception was the direct cause of the following exception:\n",
      "\u001b[0;31mKeyError\u001b[0m                                  Traceback (most recent call last)",
      "\u001b[0;32m<ipython-input-55-7a3530d4d2da>\u001b[0m in \u001b[0;36m<module>\u001b[0;34m\u001b[0m\n\u001b[0;32m----> 1\u001b[0;31m \u001b[0mdf\u001b[0m\u001b[0;34m[\u001b[0m\u001b[0;34m'Время существования'\u001b[0m\u001b[0;34m]\u001b[0m \u001b[0;34m=\u001b[0m \u001b[0mcurrent_year\u001b[0m \u001b[0;34m-\u001b[0m \u001b[0mdf\u001b[0m\u001b[0;34m[\u001b[0m\u001b[0;34m'Год основания'\u001b[0m\u001b[0;34m]\u001b[0m\u001b[0;34m\u001b[0m\u001b[0;34m\u001b[0m\u001b[0m\n\u001b[0m\u001b[1;32m      2\u001b[0m \u001b[0maverage_lifetime\u001b[0m \u001b[0;34m=\u001b[0m \u001b[0mdf\u001b[0m\u001b[0;34m[\u001b[0m\u001b[0;34m'Время существования'\u001b[0m\u001b[0;34m]\u001b[0m\u001b[0;34m.\u001b[0m\u001b[0mmean\u001b[0m\u001b[0;34m(\u001b[0m\u001b[0;34m)\u001b[0m\u001b[0;34m\u001b[0m\u001b[0;34m\u001b[0m\u001b[0m\n\u001b[1;32m      3\u001b[0m \u001b[0mprint\u001b[0m\u001b[0;34m(\u001b[0m\u001b[0maverage_lifetime\u001b[0m\u001b[0;34m)\u001b[0m\u001b[0;34m\u001b[0m\u001b[0;34m\u001b[0m\u001b[0m\n",
      "\u001b[0;32m/usr/local/anaconda3/lib/python3.8/site-packages/pandas/core/frame.py\u001b[0m in \u001b[0;36m__getitem__\u001b[0;34m(self, key)\u001b[0m\n\u001b[1;32m   3503\u001b[0m             \u001b[0;32mif\u001b[0m \u001b[0mself\u001b[0m\u001b[0;34m.\u001b[0m\u001b[0mcolumns\u001b[0m\u001b[0;34m.\u001b[0m\u001b[0mnlevels\u001b[0m \u001b[0;34m>\u001b[0m \u001b[0;36m1\u001b[0m\u001b[0;34m:\u001b[0m\u001b[0;34m\u001b[0m\u001b[0;34m\u001b[0m\u001b[0m\n\u001b[1;32m   3504\u001b[0m                 \u001b[0;32mreturn\u001b[0m \u001b[0mself\u001b[0m\u001b[0;34m.\u001b[0m\u001b[0m_getitem_multilevel\u001b[0m\u001b[0;34m(\u001b[0m\u001b[0mkey\u001b[0m\u001b[0;34m)\u001b[0m\u001b[0;34m\u001b[0m\u001b[0;34m\u001b[0m\u001b[0m\n\u001b[0;32m-> 3505\u001b[0;31m             \u001b[0mindexer\u001b[0m \u001b[0;34m=\u001b[0m \u001b[0mself\u001b[0m\u001b[0;34m.\u001b[0m\u001b[0mcolumns\u001b[0m\u001b[0;34m.\u001b[0m\u001b[0mget_loc\u001b[0m\u001b[0;34m(\u001b[0m\u001b[0mkey\u001b[0m\u001b[0;34m)\u001b[0m\u001b[0;34m\u001b[0m\u001b[0;34m\u001b[0m\u001b[0m\n\u001b[0m\u001b[1;32m   3506\u001b[0m             \u001b[0;32mif\u001b[0m \u001b[0mis_integer\u001b[0m\u001b[0;34m(\u001b[0m\u001b[0mindexer\u001b[0m\u001b[0;34m)\u001b[0m\u001b[0;34m:\u001b[0m\u001b[0;34m\u001b[0m\u001b[0;34m\u001b[0m\u001b[0m\n\u001b[1;32m   3507\u001b[0m                 \u001b[0mindexer\u001b[0m \u001b[0;34m=\u001b[0m \u001b[0;34m[\u001b[0m\u001b[0mindexer\u001b[0m\u001b[0;34m]\u001b[0m\u001b[0;34m\u001b[0m\u001b[0;34m\u001b[0m\u001b[0m\n",
      "\u001b[0;32m/usr/local/anaconda3/lib/python3.8/site-packages/pandas/core/indexes/base.py\u001b[0m in \u001b[0;36mget_loc\u001b[0;34m(self, key, method, tolerance)\u001b[0m\n\u001b[1;32m   3629\u001b[0m                 \u001b[0;32mreturn\u001b[0m \u001b[0mself\u001b[0m\u001b[0;34m.\u001b[0m\u001b[0m_engine\u001b[0m\u001b[0;34m.\u001b[0m\u001b[0mget_loc\u001b[0m\u001b[0;34m(\u001b[0m\u001b[0mcasted_key\u001b[0m\u001b[0;34m)\u001b[0m\u001b[0;34m\u001b[0m\u001b[0;34m\u001b[0m\u001b[0m\n\u001b[1;32m   3630\u001b[0m             \u001b[0;32mexcept\u001b[0m \u001b[0mKeyError\u001b[0m \u001b[0;32mas\u001b[0m \u001b[0merr\u001b[0m\u001b[0;34m:\u001b[0m\u001b[0;34m\u001b[0m\u001b[0;34m\u001b[0m\u001b[0m\n\u001b[0;32m-> 3631\u001b[0;31m                 \u001b[0;32mraise\u001b[0m \u001b[0mKeyError\u001b[0m\u001b[0;34m(\u001b[0m\u001b[0mkey\u001b[0m\u001b[0;34m)\u001b[0m \u001b[0;32mfrom\u001b[0m \u001b[0merr\u001b[0m\u001b[0;34m\u001b[0m\u001b[0;34m\u001b[0m\u001b[0m\n\u001b[0m\u001b[1;32m   3632\u001b[0m             \u001b[0;32mexcept\u001b[0m \u001b[0mTypeError\u001b[0m\u001b[0;34m:\u001b[0m\u001b[0;34m\u001b[0m\u001b[0;34m\u001b[0m\u001b[0m\n\u001b[1;32m   3633\u001b[0m                 \u001b[0;31m# If we have a listlike key, _check_indexing_error will raise\u001b[0m\u001b[0;34m\u001b[0m\u001b[0;34m\u001b[0m\u001b[0;34m\u001b[0m\u001b[0m\n",
      "\u001b[0;31mKeyError\u001b[0m: 'Год основания'"
     ]
    }
   ],
   "source": [
    "df['Время существования'] = current_year - df['Год основания']\n",
    "average_lifetime = df['Время существования'].mean()\n",
    "print(average_lifetime)"
   ]
  },
  {
   "cell_type": "markdown",
   "id": "8a41f196",
   "metadata": {},
   "source": [
    "<hr style=\"border:1px solid red;\">"
   ]
  },
  {
   "cell_type": "markdown",
   "id": "19351510",
   "metadata": {},
   "source": [
    "<div style=\"border: 3px dotted red; text-align: center; padding: 10px;\">\n",
    "<b>Что проверяется в задании:</b>\n",
    "    \n",
    "Соответвие вывода, без округления:\n",
    "    \n",
    "17.914\n",
    "    \n",
    "</div>"
   ]
  },
  {
   "cell_type": "markdown",
   "id": "64f036be",
   "metadata": {},
   "source": [
    "<a id=\"task8\"></a>\n",
    "\n",
    "### Задача №8. Существует ли связь между годом основания и годовой выручкой?"
   ]
  },
  {
   "cell_type": "markdown",
   "id": "ba450dd9",
   "metadata": {
    "id": "ba450dd9"
   },
   "source": [
    "Посчитатйте корреляцию"
   ]
  },
  {
   "cell_type": "markdown",
   "id": "3aae25a0",
   "metadata": {},
   "source": [
    "<hr style=\"border:1px solid red;\">\n",
    "<a id='solve8'></a>\n",
    "\n",
    "###  Решение "
   ]
  },
  {
   "cell_type": "code",
   "execution_count": 50,
   "id": "e57b57d4",
   "metadata": {
    "id": "e57b57d4",
    "outputId": "e2a39f6f-d678-4f57-ef2d-642a8fae36ce"
   },
   "outputs": [
    {
     "name": "stdout",
     "output_type": "stream",
     "text": [
      "0.015684354966626377\n"
     ]
    }
   ],
   "source": [
    "correlation = df['Год основания'].corr(df['Годовая выручка'])\n",
    "print(correlation)"
   ]
  },
  {
   "cell_type": "markdown",
   "id": "84483655",
   "metadata": {},
   "source": [
    "<hr style=\"border:1px solid red;\">"
   ]
  },
  {
   "cell_type": "markdown",
   "id": "eee2f5ec",
   "metadata": {},
   "source": [
    "<div style=\"border: 3px dotted red; text-align: center; padding: 10px;\">\n",
    "<b>Что проверяется в задании:</b>\n",
    "    \n",
    "Соответвие вывода, без округления:\n",
    "    \n",
    "0.015684354966626377\n",
    "    \n",
    "</div>"
   ]
  },
  {
   "cell_type": "markdown",
   "id": "834511b6",
   "metadata": {
    "id": "834511b6"
   },
   "source": [
    "<a id=\"chapter4\"></a>\n",
    "\n",
    "# Временные ряды"
   ]
  },
  {
   "cell_type": "markdown",
   "id": "02CjopcFQGQC",
   "metadata": {
    "id": "02CjopcFQGQC"
   },
   "source": [
    "*Временной ряд - это последовательность данных, измеренных в разные моменты времени. Эти данные обычно упорядочены в хронологическом порядке, что означает, что каждое измерение связано с определенным моментом времени. Временные ряды широко используются для анализа и прогнозирования различных явлений, которые меняются с течением времени.*"
   ]
  },
  {
   "cell_type": "markdown",
   "id": "123ad014",
   "metadata": {
    "id": "123ad014"
   },
   "source": [
    "### Загрузите данные из датасета."
   ]
  },
  {
   "cell_type": "code",
   "execution_count": 51,
   "id": "4da72cdb",
   "metadata": {
    "id": "4da72cdb",
    "outputId": "6b7d1225-76ce-4ff4-a268-dcb29571fa3f"
   },
   "outputs": [
    {
     "data": {
      "text/html": [
       "<div>\n",
       "<style scoped>\n",
       "    .dataframe tbody tr th:only-of-type {\n",
       "        vertical-align: middle;\n",
       "    }\n",
       "\n",
       "    .dataframe tbody tr th {\n",
       "        vertical-align: top;\n",
       "    }\n",
       "\n",
       "    .dataframe thead th {\n",
       "        text-align: right;\n",
       "    }\n",
       "</style>\n",
       "<table border=\"1\" class=\"dataframe\">\n",
       "  <thead>\n",
       "    <tr style=\"text-align: right;\">\n",
       "      <th></th>\n",
       "      <th>Date</th>\n",
       "      <th>Temp</th>\n",
       "    </tr>\n",
       "  </thead>\n",
       "  <tbody>\n",
       "    <tr>\n",
       "      <th>0</th>\n",
       "      <td>1981-01-01</td>\n",
       "      <td>20.7</td>\n",
       "    </tr>\n",
       "    <tr>\n",
       "      <th>1</th>\n",
       "      <td>1981-01-02</td>\n",
       "      <td>17.9</td>\n",
       "    </tr>\n",
       "    <tr>\n",
       "      <th>2</th>\n",
       "      <td>1981-01-03</td>\n",
       "      <td>18.8</td>\n",
       "    </tr>\n",
       "    <tr>\n",
       "      <th>3</th>\n",
       "      <td>1981-01-04</td>\n",
       "      <td>14.6</td>\n",
       "    </tr>\n",
       "    <tr>\n",
       "      <th>4</th>\n",
       "      <td>1981-01-05</td>\n",
       "      <td>15.8</td>\n",
       "    </tr>\n",
       "  </tbody>\n",
       "</table>\n",
       "</div>"
      ],
      "text/plain": [
       "         Date  Temp\n",
       "0  1981-01-01  20.7\n",
       "1  1981-01-02  17.9\n",
       "2  1981-01-03  18.8\n",
       "3  1981-01-04  14.6\n",
       "4  1981-01-05  15.8"
      ]
     },
     "execution_count": 51,
     "metadata": {},
     "output_type": "execute_result"
    }
   ],
   "source": [
    "import pandas as pd\n",
    "\n",
    "url = \"https://raw.githubusercontent.com/jbrownlee/Datasets/master/daily-min-temperatures.csv\"\n",
    "df = pd.read_csv(url)\n",
    "df.head()"
   ]
  },
  {
   "cell_type": "markdown",
   "id": "5b85b18c",
   "metadata": {
    "id": "5b85b18c"
   },
   "source": [
    "<a id=\"task9\"></a>\n",
    "\n",
    "### Задача №9. Постройте визуализацию зависимости температуры от дня."
   ]
  },
  {
   "cell_type": "markdown",
   "id": "b50f01af",
   "metadata": {},
   "source": [
    "<hr style=\"border:1px solid red;\">\n",
    "<a id='solve9'></a>\n",
    "\n",
    "###  Решение "
   ]
  },
  {
   "cell_type": "code",
   "execution_count": 52,
   "id": "c870216f",
   "metadata": {
    "id": "c870216f",
    "outputId": "41dff9ad-2193-44a9-f125-9c3704c8ec84"
   },
   "outputs": [
    {
     "data": {
      "image/png": "[encoded data removed]",
      "text/plain": [
       "<Figure size 864x432 with 1 Axes>"
      ]
     },
     "metadata": {
      "needs_background": "light"
     },
     "output_type": "display_data"
    }
   ],
   "source": [
    "plt.figure(figsize=(12, 6))\n",
    "plt.plot(df['Date'], df['Temp'], color='blue', marker='o', linestyle='-', linewidth=2, markersize=6)\n",
    "plt.title('Зависимость температуры от дня')\n",
    "plt.xlabel('Дата')\n",
    "plt.ylabel('Температура')\n",
    "plt.xticks(df['Date'][::100], rotation=45)  # Отображаем каждую сотую дату для улучшения читаемости\n",
    "plt.tight_layout()\n",
    "plt.show()"
   ]
  },
  {
   "cell_type": "markdown",
   "id": "d3999742",
   "metadata": {},
   "source": [
    "<hr style=\"border:1px solid red;\">"
   ]
  },
  {
   "cell_type": "markdown",
   "id": "2c7b289c",
   "metadata": {},
   "source": [
    "<div style=\"border: 3px dotted red; text-align: center; padding: 10px;\">\n",
    "<b>Что проверяется в задании:</b>\n",
    "    \n",
    "Соответвие вида графика\n",
    "    \n",
    "</div>"
   ]
  },
  {
   "cell_type": "markdown",
   "id": "c8f8a5a0",
   "metadata": {
    "id": "c8f8a5a0"
   },
   "source": [
    "Так же можно, к примеру, выделить сезонные паттерны в данных. Определите, когда в году обычно бывает холодно, а когда тепло. Можно использовать средние значения температур по месяцам."
   ]
  },
  {
   "cell_type": "code",
   "execution_count": 56,
   "id": "377451fc",
   "metadata": {
    "id": "377451fc",
    "outputId": "5fb27272-4364-4e00-9574-0f4d1c0dccb8"
   },
   "outputs": [
    {
     "data": {
      "image/png": "[encoded data removed]",
      "text/plain": [
       "<Figure size 720x432 with 1 Axes>"
      ]
     },
     "metadata": {
      "needs_background": "light"
     },
     "output_type": "display_data"
    }
   ],
   "source": [
    "df['Date'] = pd.to_datetime(df['Date'])\n",
    "\n",
    "df['Month'] = df['Date'].dt.month\n",
    "\n",
    "average_temperatures = df.groupby('Month')['Temp'].mean()\n",
    "\n",
    "# Месяцы в году\n",
    "months = ['Январь', 'Февраль', 'Март', 'Апрель', 'Май', 'Июнь', 'Июль', 'Август', 'Сентябрь', 'Октябрь', 'Ноябрь', 'Декабрь']\n",
    "\n",
    "# Построение визуализации средних температур по месяцам\n",
    "plt.figure(figsize=(10, 6))\n",
    "plt.plot(months, average_temperatures, marker='o', color='green', linestyle='-', linewidth=2, markersize=8)\n",
    "plt.title('Средние температуры по месяцам')\n",
    "plt.xlabel('Месяц')\n",
    "plt.ylabel('Средняя температура')\n",
    "plt.grid(True)\n",
    "plt.xticks(rotation=45)\n",
    "plt.tight_layout()\n",
    "plt.show()"
   ]
  },
  {
   "cell_type": "markdown",
   "id": "adcb065e",
   "metadata": {
    "id": "adcb065e"
   },
   "source": [
    "<a id=\"chapter5\"></a>\n",
    "\n",
    "# Пространственные данные"
   ]
  },
  {
   "cell_type": "markdown",
   "id": "YSa7_24XQznh",
   "metadata": {
    "id": "YSa7_24XQznh"
   },
   "source": [
    "\n",
    "\n",
    "1.   Скачать датасет со стационарными местами торговли в формате JSON https://data.mos.ru/datasets/3304\n",
    "2.   Переименовать  в 'moscow_data.json'\n",
    "\n"
   ]
  },
  {
   "cell_type": "markdown",
   "id": "zPyDxxIsRq1R",
   "metadata": {
    "id": "zPyDxxIsRq1R"
   },
   "source": [
    "*JSON - это способ организации данных, который используется в компьютерных программах. Это аббревиатура, которая расшифровывается как \"JavaScript Object Notation\" (Нотация объектов JavaScript), но не обязательно связана только с языком программирования JavaScript.*\n",
    "\n",
    "*Представьте JSON как способ записи информации, похожий на список с данными. Этот список состоит из пар \"ключ\" и \"значение\". Ключ - это слово или фраза, которое описывает, что находится в значении. Значение - это собственно информация.*"
   ]
  },
  {
   "cell_type": "code",
   "execution_count": 61,
   "id": "b491541d",
   "metadata": {
    "id": "b491541d"
   },
   "outputs": [],
   "source": [
    "moscow_shops_path='data/moscow_data.json'"
   ]
  },
  {
   "cell_type": "code",
   "execution_count": 62,
   "id": "p0R5FbN9R3gf",
   "metadata": {
    "id": "p0R5FbN9R3gf"
   },
   "outputs": [],
   "source": [
    "import json\n",
    "with open(moscow_shops_path, encoding = 'cp1251') as file:\n",
    "    data = json.load(file)"
   ]
  },
  {
   "cell_type": "markdown",
   "id": "66sMW8h2R-gt",
   "metadata": {
    "id": "66sMW8h2R-gt"
   },
   "source": [
    "Преобразуем данные в датафрейм"
   ]
  },
  {
   "cell_type": "code",
   "execution_count": 63,
   "id": "ly5v_NNVLmK_",
   "metadata": {
    "colab": {
     "base_uri": "https://localhost:8080/",
     "height": 487
    },
    "id": "ly5v_NNVLmK_",
    "outputId": "469b43fd-566c-4395-c0f7-bbe90c361713"
   },
   "outputs": [
    {
     "data": {
      "text/html": [
       "<div>\n",
       "<style scoped>\n",
       "    .dataframe tbody tr th:only-of-type {\n",
       "        vertical-align: middle;\n",
       "    }\n",
       "\n",
       "    .dataframe tbody tr th {\n",
       "        vertical-align: top;\n",
       "    }\n",
       "\n",
       "    .dataframe thead th {\n",
       "        text-align: right;\n",
       "    }\n",
       "</style>\n",
       "<table border=\"1\" class=\"dataframe\">\n",
       "  <thead>\n",
       "    <tr style=\"text-align: right;\">\n",
       "      <th></th>\n",
       "      <th>global_id</th>\n",
       "      <th>ID</th>\n",
       "      <th>Name</th>\n",
       "      <th>IsNetObject</th>\n",
       "      <th>OperatingCompany</th>\n",
       "      <th>TypeService</th>\n",
       "      <th>TypeObject</th>\n",
       "      <th>AdmArea</th>\n",
       "      <th>District</th>\n",
       "      <th>Address</th>\n",
       "      <th>PublicPhone</th>\n",
       "      <th>WorkingHours</th>\n",
       "      <th>ClarificationOfWorkingHours</th>\n",
       "      <th>geoData</th>\n",
       "    </tr>\n",
       "  </thead>\n",
       "  <tbody>\n",
       "    <tr>\n",
       "      <th>0</th>\n",
       "      <td>637390942</td>\n",
       "      <td>000069305</td>\n",
       "      <td>Одежда. Обувь. Промтовары</td>\n",
       "      <td>нет</td>\n",
       "      <td></td>\n",
       "      <td>реализация непродовольственных товаров</td>\n",
       "      <td>Магазин «Промтовары»</td>\n",
       "      <td>Северный административный округ</td>\n",
       "      <td>район Беговой</td>\n",
       "      <td>город Москва, Беговая аллея, дом 3А</td>\n",
       "      <td>[{'PublicPhone': '(977) 757-40-37'}]</td>\n",
       "      <td>[{'DayOfWeek': 'понедельник', 'Hours': '09:30-...</td>\n",
       "      <td></td>\n",
       "      <td>{'coordinates': [37.564782, 55.7833609999999],...</td>\n",
       "    </tr>\n",
       "    <tr>\n",
       "      <th>1</th>\n",
       "      <td>637391109</td>\n",
       "      <td>000069320</td>\n",
       "      <td>АЙКОВЕР</td>\n",
       "      <td>нет</td>\n",
       "      <td></td>\n",
       "      <td>реализация непродовольственных товаров</td>\n",
       "      <td>Магазин-салон</td>\n",
       "      <td>Центральный административный округ</td>\n",
       "      <td>Тверской район</td>\n",
       "      <td>город Москва, Новослободская улица, дом 50/1, ...</td>\n",
       "      <td>[{'PublicPhone': '(499) 250-12-40'}]</td>\n",
       "      <td>[{'DayOfWeek': 'понедельник', 'Hours': '10:00-...</td>\n",
       "      <td></td>\n",
       "      <td>{'coordinates': [37.5948494823958, 55.78655886...</td>\n",
       "    </tr>\n",
       "    <tr>\n",
       "      <th>2</th>\n",
       "      <td>637391714</td>\n",
       "      <td>000069342</td>\n",
       "      <td>Точка любви</td>\n",
       "      <td>да</td>\n",
       "      <td>Точка любви</td>\n",
       "      <td>реализация непродовольственных товаров</td>\n",
       "      <td>Прочие специализированные непродовольственные ...</td>\n",
       "      <td>Северный административный округ</td>\n",
       "      <td>район Беговой</td>\n",
       "      <td>город Москва, Ленинградский проспект, дом 12</td>\n",
       "      <td>[{'PublicPhone': '(925) 659-93-01'}]</td>\n",
       "      <td>[{'DayOfWeek': 'понедельник', 'Hours': '10:00-...</td>\n",
       "      <td></td>\n",
       "      <td>{'coordinates': [37.5787834986412, 55.78018806...</td>\n",
       "    </tr>\n",
       "    <tr>\n",
       "      <th>3</th>\n",
       "      <td>637392270</td>\n",
       "      <td>000069357</td>\n",
       "      <td>Магазин Выпечка, пекарня</td>\n",
       "      <td>нет</td>\n",
       "      <td></td>\n",
       "      <td>реализация продовольственных товаров</td>\n",
       "      <td>Магазин «Продукты»</td>\n",
       "      <td>Южный административный округ</td>\n",
       "      <td>Даниловский район</td>\n",
       "      <td>город Москва, улица Даниловский Вал, дом 10</td>\n",
       "      <td>[{'PublicPhone': '(499) 765-78-23'}]</td>\n",
       "      <td>[{'DayOfWeek': 'понедельник', 'Hours': '08:00-...</td>\n",
       "      <td></td>\n",
       "      <td>{'coordinates': [37.6251772588661, 55.71120059...</td>\n",
       "    </tr>\n",
       "    <tr>\n",
       "      <th>4</th>\n",
       "      <td>637392326</td>\n",
       "      <td>000069362</td>\n",
       "      <td>Togas</td>\n",
       "      <td>да</td>\n",
       "      <td>Togas</td>\n",
       "      <td>реализация непродовольственных товаров</td>\n",
       "      <td>Магазин «Ткани»</td>\n",
       "      <td>Западный административный округ</td>\n",
       "      <td>район Раменки</td>\n",
       "      <td>город Москва, Мичуринский проспект, дом 22, ко...</td>\n",
       "      <td>[{'PublicPhone': '(495) 932-98-56'}]</td>\n",
       "      <td>[{'DayOfWeek': 'понедельник', 'Hours': '10:00-...</td>\n",
       "      <td></td>\n",
       "      <td>{'coordinates': [37.503886, 55.7012649999999],...</td>\n",
       "    </tr>\n",
       "  </tbody>\n",
       "</table>\n",
       "</div>"
      ],
      "text/plain": [
       "   global_id         ID                       Name IsNetObject  \\\n",
       "0  637390942  000069305  Одежда. Обувь. Промтовары         нет   \n",
       "1  637391109  000069320                    АЙКОВЕР         нет   \n",
       "2  637391714  000069342                Точка любви          да   \n",
       "3  637392270  000069357   Магазин Выпечка, пекарня         нет   \n",
       "4  637392326  000069362                      Togas          да   \n",
       "\n",
       "  OperatingCompany                             TypeService  \\\n",
       "0                   реализация непродовольственных товаров   \n",
       "1                   реализация непродовольственных товаров   \n",
       "2      Точка любви  реализация непродовольственных товаров   \n",
       "3                     реализация продовольственных товаров   \n",
       "4            Togas  реализация непродовольственных товаров   \n",
       "\n",
       "                                          TypeObject  \\\n",
       "0                               Магазин «Промтовары»   \n",
       "1                                      Магазин-салон   \n",
       "2  Прочие специализированные непродовольственные ...   \n",
       "3                                 Магазин «Продукты»   \n",
       "4                                    Магазин «Ткани»   \n",
       "\n",
       "                              AdmArea           District  \\\n",
       "0     Северный административный округ      район Беговой   \n",
       "1  Центральный административный округ     Тверской район   \n",
       "2     Северный административный округ      район Беговой   \n",
       "3        Южный административный округ  Даниловский район   \n",
       "4     Западный административный округ      район Раменки   \n",
       "\n",
       "                                             Address  \\\n",
       "0                город Москва, Беговая аллея, дом 3А   \n",
       "1  город Москва, Новослободская улица, дом 50/1, ...   \n",
       "2       город Москва, Ленинградский проспект, дом 12   \n",
       "3        город Москва, улица Даниловский Вал, дом 10   \n",
       "4  город Москва, Мичуринский проспект, дом 22, ко...   \n",
       "\n",
       "                            PublicPhone  \\\n",
       "0  [{'PublicPhone': '(977) 757-40-37'}]   \n",
       "1  [{'PublicPhone': '(499) 250-12-40'}]   \n",
       "2  [{'PublicPhone': '(925) 659-93-01'}]   \n",
       "3  [{'PublicPhone': '(499) 765-78-23'}]   \n",
       "4  [{'PublicPhone': '(495) 932-98-56'}]   \n",
       "\n",
       "                                        WorkingHours  \\\n",
       "0  [{'DayOfWeek': 'понедельник', 'Hours': '09:30-...   \n",
       "1  [{'DayOfWeek': 'понедельник', 'Hours': '10:00-...   \n",
       "2  [{'DayOfWeek': 'понедельник', 'Hours': '10:00-...   \n",
       "3  [{'DayOfWeek': 'понедельник', 'Hours': '08:00-...   \n",
       "4  [{'DayOfWeek': 'понедельник', 'Hours': '10:00-...   \n",
       "\n",
       "  ClarificationOfWorkingHours  \\\n",
       "0                               \n",
       "1                               \n",
       "2                               \n",
       "3                               \n",
       "4                               \n",
       "\n",
       "                                             geoData  \n",
       "0  {'coordinates': [37.564782, 55.7833609999999],...  \n",
       "1  {'coordinates': [37.5948494823958, 55.78655886...  \n",
       "2  {'coordinates': [37.5787834986412, 55.78018806...  \n",
       "3  {'coordinates': [37.6251772588661, 55.71120059...  \n",
       "4  {'coordinates': [37.503886, 55.7012649999999],...  "
      ]
     },
     "execution_count": 63,
     "metadata": {},
     "output_type": "execute_result"
    }
   ],
   "source": [
    "import pandas as pd\n",
    "\n",
    "df = pd.DataFrame(data)\n",
    "df.head()"
   ]
  },
  {
   "cell_type": "markdown",
   "id": "3960dd3b",
   "metadata": {},
   "source": [
    "<a id=\"task10\"></a>\n",
    "\n",
    "### Задача №10. Подготовить данные для расчета метрик"
   ]
  },
  {
   "cell_type": "markdown",
   "id": "8AAgnRl6SC4o",
   "metadata": {
    "id": "8AAgnRl6SC4o"
   },
   "source": [
    "1. Использовать регулярные выражения и выделить только слова\n",
    "2. Перевести текст в нижний регистр (строчные буквы)\n",
    "\n",
    "*Регулярные выражения - это специальные шаблоны или правила для поиска и обработки текста в компьютерных программах. Они позволяют находить определенные части текста или проверять, соответствует ли текст определенному формату.*"
   ]
  },
  {
   "cell_type": "markdown",
   "id": "354dd93b",
   "metadata": {},
   "source": [
    "<hr style=\"border:1px solid red;\">\n",
    "<a id='solve10'></a>\n",
    "\n",
    "###  Решение "
   ]
  },
  {
   "cell_type": "code",
   "execution_count": 69,
   "id": "EyyWGYYtMMAz",
   "metadata": {
    "id": "EyyWGYYtMMAz"
   },
   "outputs": [],
   "source": [
    "import re\n",
    "\n",
    "names = list(df['Name'])\n",
    "\n",
    "p_txt = ' '.join(names)\n",
    "pattern = \"[^а-яА-Яa-zA-Z ]\"\n",
    "p_txt = re.sub(pattern, ' ', p_txt)\n",
    "p_txt = p_txt.lower()\n"
   ]
  },
  {
   "cell_type": "markdown",
   "id": "02a640f7",
   "metadata": {},
   "source": [
    "<hr style=\"border:1px solid red;\">"
   ]
  },
  {
   "cell_type": "markdown",
   "id": "3036ab1b",
   "metadata": {},
   "source": [
    "<div style=\"border: 3px dotted red; text-align: center; padding: 10px;\">\n",
    "<b>Что проверяется в задании:</b>\n",
    "    \n",
    "Соответвие вывода, переменная ```p_txt```\n",
    "    \n",
    "</div>"
   ]
  },
  {
   "cell_type": "markdown",
   "id": "vudN2PvmWmZg",
   "metadata": {
    "id": "vudN2PvmWmZg"
   },
   "source": [
    "Расчитываем метрику при помощи библиотеки\n",
    "\n",
    "\n",
    "*TF-IDF - это метод оценки важности слов в тексте. Он помогает определить, насколько слово важно для конкретного документа в коллекции документов. Давайте разберем, что означает каждая из букв:*"
   ]
  },
  {
   "cell_type": "code",
   "execution_count": 70,
   "id": "OIMaUf54MMu3",
   "metadata": {
    "colab": {
     "base_uri": "https://localhost:8080/",
     "height": 424
    },
    "id": "OIMaUf54MMu3",
    "outputId": "323eae4a-17d6-4fb3-dfb4-ed814b8055ce"
   },
   "outputs": [
    {
     "data": {
      "text/html": [
       "<div>\n",
       "<style scoped>\n",
       "    .dataframe tbody tr th:only-of-type {\n",
       "        vertical-align: middle;\n",
       "    }\n",
       "\n",
       "    .dataframe tbody tr th {\n",
       "        vertical-align: top;\n",
       "    }\n",
       "\n",
       "    .dataframe thead th {\n",
       "        text-align: right;\n",
       "    }\n",
       "</style>\n",
       "<table border=\"1\" class=\"dataframe\">\n",
       "  <thead>\n",
       "    <tr style=\"text-align: right;\">\n",
       "      <th></th>\n",
       "      <th>word</th>\n",
       "      <th>tf-idf</th>\n",
       "    </tr>\n",
       "  </thead>\n",
       "  <tbody>\n",
       "    <tr>\n",
       "      <th>10274</th>\n",
       "      <td>магазин</td>\n",
       "      <td>0.542803</td>\n",
       "    </tr>\n",
       "    <tr>\n",
       "      <th>12299</th>\n",
       "      <td>продукты</td>\n",
       "      <td>0.369241</td>\n",
       "    </tr>\n",
       "    <tr>\n",
       "      <th>11352</th>\n",
       "      <td>одежда</td>\n",
       "      <td>0.321492</td>\n",
       "    </tr>\n",
       "    <tr>\n",
       "      <th>13734</th>\n",
       "      <td>табак</td>\n",
       "      <td>0.255268</td>\n",
       "    </tr>\n",
       "    <tr>\n",
       "      <th>14741</th>\n",
       "      <td>цветы</td>\n",
       "      <td>0.211422</td>\n",
       "    </tr>\n",
       "    <tr>\n",
       "      <th>...</th>\n",
       "      <td>...</td>\n",
       "      <td>...</td>\n",
       "    </tr>\n",
       "    <tr>\n",
       "      <th>6727</th>\n",
       "      <td>асессуары</td>\n",
       "      <td>0.000130</td>\n",
       "    </tr>\n",
       "    <tr>\n",
       "      <th>6728</th>\n",
       "      <td>асколи</td>\n",
       "      <td>0.000130</td>\n",
       "    </tr>\n",
       "    <tr>\n",
       "      <th>6729</th>\n",
       "      <td>аскона</td>\n",
       "      <td>0.000130</td>\n",
       "    </tr>\n",
       "    <tr>\n",
       "      <th>6730</th>\n",
       "      <td>аслан</td>\n",
       "      <td>0.000130</td>\n",
       "    </tr>\n",
       "    <tr>\n",
       "      <th>15392</th>\n",
       "      <td>ячмень</td>\n",
       "      <td>0.000130</td>\n",
       "    </tr>\n",
       "  </tbody>\n",
       "</table>\n",
       "<p>15393 rows × 2 columns</p>\n",
       "</div>"
      ],
      "text/plain": [
       "            word    tf-idf\n",
       "10274    магазин  0.542803\n",
       "12299   продукты  0.369241\n",
       "11352     одежда  0.321492\n",
       "13734      табак  0.255268\n",
       "14741      цветы  0.211422\n",
       "...          ...       ...\n",
       "6727   асессуары  0.000130\n",
       "6728      асколи  0.000130\n",
       "6729      аскона  0.000130\n",
       "6730       аслан  0.000130\n",
       "15392     ячмень  0.000130\n",
       "\n",
       "[15393 rows x 2 columns]"
      ]
     },
     "execution_count": 70,
     "metadata": {},
     "output_type": "execute_result"
    }
   ],
   "source": [
    "\n",
    "from sklearn.feature_extraction.text import TfidfVectorizer\n",
    "corpus = [p_txt]\n",
    "vectorizer = TfidfVectorizer()\n",
    "X = vectorizer.fit_transform(corpus)\n",
    "X = X.todense()\n",
    "voc = vectorizer.get_feature_names_out()\n",
    "words = []\n",
    "tf_idf = []\n",
    "for i in range(len(voc)):\n",
    "    words.append(voc[i])\n",
    "    tf_idf.append(X[0,i])\n",
    "df2 = pd.DataFrame({'word':words, 'tf-idf': tf_idf})\n",
    "df2 = df2.sort_values(by = ['tf-idf'],ascending = False) #сортируем по убыванию\n",
    "df2"
   ]
  },
  {
   "cell_type": "markdown",
   "id": "iWKzfE4cXT3q",
   "metadata": {
    "id": "iWKzfE4cXT3q"
   },
   "source": [
    "<a id=\"task11\"></a>\n",
    "\n",
    "### Задача №11. Выделить топ 5 важных слов"
   ]
  },
  {
   "cell_type": "markdown",
   "id": "c43fe1d2",
   "metadata": {},
   "source": [
    "<hr style=\"border:1px solid red;\">\n",
    "<a id='solve11'></a>\n",
    "\n",
    "###  Решение "
   ]
  },
  {
   "cell_type": "code",
   "execution_count": 71,
   "id": "yfBCCMJzMS3P",
   "metadata": {
    "colab": {
     "base_uri": "https://localhost:8080/"
    },
    "id": "yfBCCMJzMS3P",
    "outputId": "ad24792d-1cb9-4e39-f8d0-378e3f723443"
   },
   "outputs": [
    {
     "data": {
      "text/plain": [
       "['магазин', 'продукты', 'одежда', 'табак', 'цветы']"
      ]
     },
     "execution_count": 71,
     "metadata": {},
     "output_type": "execute_result"
    }
   ],
   "source": [
    "words = list(df2['word'])\n",
    "important_words = words[:5]\n",
    "important_words"
   ]
  },
  {
   "cell_type": "markdown",
   "id": "fcb06c25",
   "metadata": {},
   "source": [
    "<hr style=\"border:1px solid red;\">"
   ]
  },
  {
   "cell_type": "markdown",
   "id": "e20973b0",
   "metadata": {},
   "source": [
    "<div style=\"border: 3px dotted red; text-align: center; padding: 10px;\">\n",
    "<b>Что проверяется в задании:</b>\n",
    "    \n",
    "Соответвие вывода\n",
    "\n",
    "```['магазин', 'продукты', 'одежда', 'табак', 'цветы']```\n",
    "    \n",
    "</div>"
   ]
  },
  {
   "cell_type": "markdown",
   "id": "83a81ad0",
   "metadata": {},
   "source": [
    "<a id=\"chapter6\"></a>\n",
    "\n",
    "# Интерфейсы и база данных"
   ]
  },
  {
   "cell_type": "markdown",
   "id": "100722ce",
   "metadata": {},
   "source": [
    "Для визуализации данных удобно сохранить все данные в базе данных (к примеру, sqllite)"
   ]
  },
  {
   "cell_type": "code",
   "execution_count": 73,
   "id": "790a77cd",
   "metadata": {},
   "outputs": [],
   "source": [
    "from sqlite3 import connect"
   ]
  },
  {
   "cell_type": "code",
   "execution_count": 74,
   "id": "30a658a5",
   "metadata": {},
   "outputs": [],
   "source": [
    "conn = connect('data.db')  "
   ]
  },
  {
   "cell_type": "code",
   "execution_count": 76,
   "id": "c74addc6",
   "metadata": {},
   "outputs": [
    {
     "data": {
      "text/html": [
       "<div>\n",
       "<style scoped>\n",
       "    .dataframe tbody tr th:only-of-type {\n",
       "        vertical-align: middle;\n",
       "    }\n",
       "\n",
       "    .dataframe tbody tr th {\n",
       "        vertical-align: top;\n",
       "    }\n",
       "\n",
       "    .dataframe thead th {\n",
       "        text-align: right;\n",
       "    }\n",
       "</style>\n",
       "<table border=\"1\" class=\"dataframe\">\n",
       "  <thead>\n",
       "    <tr style=\"text-align: right;\">\n",
       "      <th></th>\n",
       "      <th>global_id</th>\n",
       "      <th>ID</th>\n",
       "      <th>Name</th>\n",
       "      <th>IsNetObject</th>\n",
       "      <th>OperatingCompany</th>\n",
       "      <th>TypeService</th>\n",
       "      <th>TypeObject</th>\n",
       "      <th>AdmArea</th>\n",
       "      <th>District</th>\n",
       "      <th>Address</th>\n",
       "      <th>PublicPhone</th>\n",
       "      <th>WorkingHours</th>\n",
       "      <th>ClarificationOfWorkingHours</th>\n",
       "      <th>geoData</th>\n",
       "    </tr>\n",
       "  </thead>\n",
       "  <tbody>\n",
       "    <tr>\n",
       "      <th>0</th>\n",
       "      <td>637390942</td>\n",
       "      <td>000069305</td>\n",
       "      <td>Одежда. Обувь. Промтовары</td>\n",
       "      <td>нет</td>\n",
       "      <td></td>\n",
       "      <td>реализация непродовольственных товаров</td>\n",
       "      <td>Магазин «Промтовары»</td>\n",
       "      <td>Северный административный округ</td>\n",
       "      <td>район Беговой</td>\n",
       "      <td>город Москва, Беговая аллея, дом 3А</td>\n",
       "      <td>[{'PublicPhone': '(977) 757-40-37'}]</td>\n",
       "      <td>[{'DayOfWeek': 'понедельник', 'Hours': '09:30-...</td>\n",
       "      <td></td>\n",
       "      <td>{'coordinates': [37.564782, 55.7833609999999],...</td>\n",
       "    </tr>\n",
       "    <tr>\n",
       "      <th>1</th>\n",
       "      <td>637391109</td>\n",
       "      <td>000069320</td>\n",
       "      <td>АЙКОВЕР</td>\n",
       "      <td>нет</td>\n",
       "      <td></td>\n",
       "      <td>реализация непродовольственных товаров</td>\n",
       "      <td>Магазин-салон</td>\n",
       "      <td>Центральный административный округ</td>\n",
       "      <td>Тверской район</td>\n",
       "      <td>город Москва, Новослободская улица, дом 50/1, ...</td>\n",
       "      <td>[{'PublicPhone': '(499) 250-12-40'}]</td>\n",
       "      <td>[{'DayOfWeek': 'понедельник', 'Hours': '10:00-...</td>\n",
       "      <td></td>\n",
       "      <td>{'coordinates': [37.5948494823958, 55.78655886...</td>\n",
       "    </tr>\n",
       "    <tr>\n",
       "      <th>2</th>\n",
       "      <td>637391714</td>\n",
       "      <td>000069342</td>\n",
       "      <td>Точка любви</td>\n",
       "      <td>да</td>\n",
       "      <td>Точка любви</td>\n",
       "      <td>реализация непродовольственных товаров</td>\n",
       "      <td>Прочие специализированные непродовольственные ...</td>\n",
       "      <td>Северный административный округ</td>\n",
       "      <td>район Беговой</td>\n",
       "      <td>город Москва, Ленинградский проспект, дом 12</td>\n",
       "      <td>[{'PublicPhone': '(925) 659-93-01'}]</td>\n",
       "      <td>[{'DayOfWeek': 'понедельник', 'Hours': '10:00-...</td>\n",
       "      <td></td>\n",
       "      <td>{'coordinates': [37.5787834986412, 55.78018806...</td>\n",
       "    </tr>\n",
       "    <tr>\n",
       "      <th>3</th>\n",
       "      <td>637392270</td>\n",
       "      <td>000069357</td>\n",
       "      <td>Магазин Выпечка, пекарня</td>\n",
       "      <td>нет</td>\n",
       "      <td></td>\n",
       "      <td>реализация продовольственных товаров</td>\n",
       "      <td>Магазин «Продукты»</td>\n",
       "      <td>Южный административный округ</td>\n",
       "      <td>Даниловский район</td>\n",
       "      <td>город Москва, улица Даниловский Вал, дом 10</td>\n",
       "      <td>[{'PublicPhone': '(499) 765-78-23'}]</td>\n",
       "      <td>[{'DayOfWeek': 'понедельник', 'Hours': '08:00-...</td>\n",
       "      <td></td>\n",
       "      <td>{'coordinates': [37.6251772588661, 55.71120059...</td>\n",
       "    </tr>\n",
       "    <tr>\n",
       "      <th>4</th>\n",
       "      <td>637392326</td>\n",
       "      <td>000069362</td>\n",
       "      <td>Togas</td>\n",
       "      <td>да</td>\n",
       "      <td>Togas</td>\n",
       "      <td>реализация непродовольственных товаров</td>\n",
       "      <td>Магазин «Ткани»</td>\n",
       "      <td>Западный административный округ</td>\n",
       "      <td>район Раменки</td>\n",
       "      <td>город Москва, Мичуринский проспект, дом 22, ко...</td>\n",
       "      <td>[{'PublicPhone': '(495) 932-98-56'}]</td>\n",
       "      <td>[{'DayOfWeek': 'понедельник', 'Hours': '10:00-...</td>\n",
       "      <td></td>\n",
       "      <td>{'coordinates': [37.503886, 55.7012649999999],...</td>\n",
       "    </tr>\n",
       "  </tbody>\n",
       "</table>\n",
       "</div>"
      ],
      "text/plain": [
       "   global_id         ID                       Name IsNetObject  \\\n",
       "0  637390942  000069305  Одежда. Обувь. Промтовары         нет   \n",
       "1  637391109  000069320                    АЙКОВЕР         нет   \n",
       "2  637391714  000069342                Точка любви          да   \n",
       "3  637392270  000069357   Магазин Выпечка, пекарня         нет   \n",
       "4  637392326  000069362                      Togas          да   \n",
       "\n",
       "  OperatingCompany                             TypeService  \\\n",
       "0                   реализация непродовольственных товаров   \n",
       "1                   реализация непродовольственных товаров   \n",
       "2      Точка любви  реализация непродовольственных товаров   \n",
       "3                     реализация продовольственных товаров   \n",
       "4            Togas  реализация непродовольственных товаров   \n",
       "\n",
       "                                          TypeObject  \\\n",
       "0                               Магазин «Промтовары»   \n",
       "1                                      Магазин-салон   \n",
       "2  Прочие специализированные непродовольственные ...   \n",
       "3                                 Магазин «Продукты»   \n",
       "4                                    Магазин «Ткани»   \n",
       "\n",
       "                              AdmArea           District  \\\n",
       "0     Северный административный округ      район Беговой   \n",
       "1  Центральный административный округ     Тверской район   \n",
       "2     Северный административный округ      район Беговой   \n",
       "3        Южный административный округ  Даниловский район   \n",
       "4     Западный административный округ      район Раменки   \n",
       "\n",
       "                                             Address  \\\n",
       "0                город Москва, Беговая аллея, дом 3А   \n",
       "1  город Москва, Новослободская улица, дом 50/1, ...   \n",
       "2       город Москва, Ленинградский проспект, дом 12   \n",
       "3        город Москва, улица Даниловский Вал, дом 10   \n",
       "4  город Москва, Мичуринский проспект, дом 22, ко...   \n",
       "\n",
       "                            PublicPhone  \\\n",
       "0  [{'PublicPhone': '(977) 757-40-37'}]   \n",
       "1  [{'PublicPhone': '(499) 250-12-40'}]   \n",
       "2  [{'PublicPhone': '(925) 659-93-01'}]   \n",
       "3  [{'PublicPhone': '(499) 765-78-23'}]   \n",
       "4  [{'PublicPhone': '(495) 932-98-56'}]   \n",
       "\n",
       "                                        WorkingHours  \\\n",
       "0  [{'DayOfWeek': 'понедельник', 'Hours': '09:30-...   \n",
       "1  [{'DayOfWeek': 'понедельник', 'Hours': '10:00-...   \n",
       "2  [{'DayOfWeek': 'понедельник', 'Hours': '10:00-...   \n",
       "3  [{'DayOfWeek': 'понедельник', 'Hours': '08:00-...   \n",
       "4  [{'DayOfWeek': 'понедельник', 'Hours': '10:00-...   \n",
       "\n",
       "  ClarificationOfWorkingHours  \\\n",
       "0                               \n",
       "1                               \n",
       "2                               \n",
       "3                               \n",
       "4                               \n",
       "\n",
       "                                             geoData  \n",
       "0  {'coordinates': [37.564782, 55.7833609999999],...  \n",
       "1  {'coordinates': [37.5948494823958, 55.78655886...  \n",
       "2  {'coordinates': [37.5787834986412, 55.78018806...  \n",
       "3  {'coordinates': [37.6251772588661, 55.71120059...  \n",
       "4  {'coordinates': [37.503886, 55.7012649999999],...  "
      ]
     },
     "execution_count": 76,
     "metadata": {},
     "output_type": "execute_result"
    }
   ],
   "source": [
    "df.head()"
   ]
  },
  {
   "cell_type": "markdown",
   "id": "a729c95a",
   "metadata": {},
   "source": [
    "<a id=\"task12\"></a>\n",
    "\n",
    "### Задача №12. Сохранить таблицу в базе данных"
   ]
  },
  {
   "cell_type": "markdown",
   "id": "3b73746b",
   "metadata": {},
   "source": [
    "Сохранить данные о погоде в таблицу ```weater``` базы данных sqlite\n",
    "\n",
    "Для удобства работы можно выделить только дату из поля ```date_only```"
   ]
  },
  {
   "cell_type": "code",
   "execution_count": 46,
   "id": "92b345c4",
   "metadata": {},
   "outputs": [
    {
     "ename": "KeyError",
     "evalue": "'Date'",
     "output_type": "error",
     "traceback": [
      "\u001b[0;31m---------------------------------------------------------------------------\u001b[0m",
      "\u001b[0;31mKeyError\u001b[0m                                  Traceback (most recent call last)",
      "\u001b[0;32m/usr/local/anaconda3/lib/python3.8/site-packages/pandas/core/indexes/base.py\u001b[0m in \u001b[0;36mget_loc\u001b[0;34m(self, key, method, tolerance)\u001b[0m\n\u001b[1;32m   3628\u001b[0m             \u001b[0;32mtry\u001b[0m\u001b[0;34m:\u001b[0m\u001b[0;34m\u001b[0m\u001b[0;34m\u001b[0m\u001b[0m\n\u001b[0;32m-> 3629\u001b[0;31m                 \u001b[0;32mreturn\u001b[0m \u001b[0mself\u001b[0m\u001b[0;34m.\u001b[0m\u001b[0m_engine\u001b[0m\u001b[0;34m.\u001b[0m\u001b[0mget_loc\u001b[0m\u001b[0;34m(\u001b[0m\u001b[0mcasted_key\u001b[0m\u001b[0;34m)\u001b[0m\u001b[0;34m\u001b[0m\u001b[0;34m\u001b[0m\u001b[0m\n\u001b[0m\u001b[1;32m   3630\u001b[0m             \u001b[0;32mexcept\u001b[0m \u001b[0mKeyError\u001b[0m \u001b[0;32mas\u001b[0m \u001b[0merr\u001b[0m\u001b[0;34m:\u001b[0m\u001b[0;34m\u001b[0m\u001b[0;34m\u001b[0m\u001b[0m\n",
      "\u001b[0;32m/usr/local/anaconda3/lib/python3.8/site-packages/pandas/_libs/index.pyx\u001b[0m in \u001b[0;36mpandas._libs.index.IndexEngine.get_loc\u001b[0;34m()\u001b[0m\n",
      "\u001b[0;32m/usr/local/anaconda3/lib/python3.8/site-packages/pandas/_libs/index.pyx\u001b[0m in \u001b[0;36mpandas._libs.index.IndexEngine.get_loc\u001b[0;34m()\u001b[0m\n",
      "\u001b[0;32mpandas/_libs/hashtable_class_helper.pxi\u001b[0m in \u001b[0;36mpandas._libs.hashtable.PyObjectHashTable.get_item\u001b[0;34m()\u001b[0m\n",
      "\u001b[0;32mpandas/_libs/hashtable_class_helper.pxi\u001b[0m in \u001b[0;36mpandas._libs.hashtable.PyObjectHashTable.get_item\u001b[0;34m()\u001b[0m\n",
      "\u001b[0;31mKeyError\u001b[0m: 'Date'",
      "\nThe above exception was the direct cause of the following exception:\n",
      "\u001b[0;31mKeyError\u001b[0m                                  Traceback (most recent call last)",
      "\u001b[0;32m<ipython-input-46-63de2956b0ef>\u001b[0m in \u001b[0;36m<module>\u001b[0;34m\u001b[0m\n\u001b[0;32m----> 1\u001b[0;31m \u001b[0mdf\u001b[0m\u001b[0;34m[\u001b[0m\u001b[0;34m'date_only'\u001b[0m\u001b[0;34m]\u001b[0m \u001b[0;34m=\u001b[0m \u001b[0mdf\u001b[0m\u001b[0;34m[\u001b[0m\u001b[0;34m'Date'\u001b[0m\u001b[0;34m]\u001b[0m\u001b[0;34m.\u001b[0m\u001b[0mdt\u001b[0m\u001b[0;34m.\u001b[0m\u001b[0mdate\u001b[0m\u001b[0;34m\u001b[0m\u001b[0;34m\u001b[0m\u001b[0m\n\u001b[0m",
      "\u001b[0;32m/usr/local/anaconda3/lib/python3.8/site-packages/pandas/core/frame.py\u001b[0m in \u001b[0;36m__getitem__\u001b[0;34m(self, key)\u001b[0m\n\u001b[1;32m   3503\u001b[0m             \u001b[0;32mif\u001b[0m \u001b[0mself\u001b[0m\u001b[0;34m.\u001b[0m\u001b[0mcolumns\u001b[0m\u001b[0;34m.\u001b[0m\u001b[0mnlevels\u001b[0m \u001b[0;34m>\u001b[0m \u001b[0;36m1\u001b[0m\u001b[0;34m:\u001b[0m\u001b[0;34m\u001b[0m\u001b[0;34m\u001b[0m\u001b[0m\n\u001b[1;32m   3504\u001b[0m                 \u001b[0;32mreturn\u001b[0m \u001b[0mself\u001b[0m\u001b[0;34m.\u001b[0m\u001b[0m_getitem_multilevel\u001b[0m\u001b[0;34m(\u001b[0m\u001b[0mkey\u001b[0m\u001b[0;34m)\u001b[0m\u001b[0;34m\u001b[0m\u001b[0;34m\u001b[0m\u001b[0m\n\u001b[0;32m-> 3505\u001b[0;31m             \u001b[0mindexer\u001b[0m \u001b[0;34m=\u001b[0m \u001b[0mself\u001b[0m\u001b[0;34m.\u001b[0m\u001b[0mcolumns\u001b[0m\u001b[0;34m.\u001b[0m\u001b[0mget_loc\u001b[0m\u001b[0;34m(\u001b[0m\u001b[0mkey\u001b[0m\u001b[0;34m)\u001b[0m\u001b[0;34m\u001b[0m\u001b[0;34m\u001b[0m\u001b[0m\n\u001b[0m\u001b[1;32m   3506\u001b[0m             \u001b[0;32mif\u001b[0m \u001b[0mis_integer\u001b[0m\u001b[0;34m(\u001b[0m\u001b[0mindexer\u001b[0m\u001b[0;34m)\u001b[0m\u001b[0;34m:\u001b[0m\u001b[0;34m\u001b[0m\u001b[0;34m\u001b[0m\u001b[0m\n\u001b[1;32m   3507\u001b[0m                 \u001b[0mindexer\u001b[0m \u001b[0;34m=\u001b[0m \u001b[0;34m[\u001b[0m\u001b[0mindexer\u001b[0m\u001b[0;34m]\u001b[0m\u001b[0;34m\u001b[0m\u001b[0;34m\u001b[0m\u001b[0m\n",
      "\u001b[0;32m/usr/local/anaconda3/lib/python3.8/site-packages/pandas/core/indexes/base.py\u001b[0m in \u001b[0;36mget_loc\u001b[0;34m(self, key, method, tolerance)\u001b[0m\n\u001b[1;32m   3629\u001b[0m                 \u001b[0;32mreturn\u001b[0m \u001b[0mself\u001b[0m\u001b[0;34m.\u001b[0m\u001b[0m_engine\u001b[0m\u001b[0;34m.\u001b[0m\u001b[0mget_loc\u001b[0m\u001b[0;34m(\u001b[0m\u001b[0mcasted_key\u001b[0m\u001b[0;34m)\u001b[0m\u001b[0;34m\u001b[0m\u001b[0;34m\u001b[0m\u001b[0m\n\u001b[1;32m   3630\u001b[0m             \u001b[0;32mexcept\u001b[0m \u001b[0mKeyError\u001b[0m \u001b[0;32mas\u001b[0m \u001b[0merr\u001b[0m\u001b[0;34m:\u001b[0m\u001b[0;34m\u001b[0m\u001b[0;34m\u001b[0m\u001b[0m\n\u001b[0;32m-> 3631\u001b[0;31m                 \u001b[0;32mraise\u001b[0m \u001b[0mKeyError\u001b[0m\u001b[0;34m(\u001b[0m\u001b[0mkey\u001b[0m\u001b[0;34m)\u001b[0m \u001b[0;32mfrom\u001b[0m \u001b[0merr\u001b[0m\u001b[0;34m\u001b[0m\u001b[0;34m\u001b[0m\u001b[0m\n\u001b[0m\u001b[1;32m   3632\u001b[0m             \u001b[0;32mexcept\u001b[0m \u001b[0mTypeError\u001b[0m\u001b[0;34m:\u001b[0m\u001b[0;34m\u001b[0m\u001b[0;34m\u001b[0m\u001b[0m\n\u001b[1;32m   3633\u001b[0m                 \u001b[0;31m# If we have a listlike key, _check_indexing_error will raise\u001b[0m\u001b[0;34m\u001b[0m\u001b[0;34m\u001b[0m\u001b[0;34m\u001b[0m\u001b[0m\n",
      "\u001b[0;31mKeyError\u001b[0m: 'Date'"
     ]
    }
   ],
   "source": [
    "df['date_only'] = df['Date'].dt.date"
   ]
  },
  {
   "cell_type": "markdown",
   "id": "e43403cd",
   "metadata": {},
   "source": [
    "<hr style=\"border:1px solid red;\">\n",
    "<a id='solve12'></a>\n",
    "\n",
    "###  Решение "
   ]
  },
  {
   "cell_type": "code",
   "execution_count": 47,
   "id": "2a2607f3",
   "metadata": {},
   "outputs": [
    {
     "ename": "ValueError",
     "evalue": "Table 'weather' already exists.",
     "output_type": "error",
     "traceback": [
      "\u001b[0;31m---------------------------------------------------------------------------\u001b[0m",
      "\u001b[0;31mValueError\u001b[0m                                Traceback (most recent call last)",
      "\u001b[0;32m<ipython-input-47-bb6aabad5c61>\u001b[0m in \u001b[0;36m<module>\u001b[0;34m\u001b[0m\n\u001b[0;32m----> 1\u001b[0;31m \u001b[0mdf\u001b[0m\u001b[0;34m.\u001b[0m\u001b[0mto_sql\u001b[0m\u001b[0;34m(\u001b[0m\u001b[0;34m'weather'\u001b[0m\u001b[0;34m,\u001b[0m \u001b[0mconn\u001b[0m\u001b[0;34m,\u001b[0m \u001b[0mindex\u001b[0m\u001b[0;34m=\u001b[0m\u001b[0;32mFalse\u001b[0m\u001b[0;34m)\u001b[0m\u001b[0;34m\u001b[0m\u001b[0;34m\u001b[0m\u001b[0m\n\u001b[0m",
      "\u001b[0;32m/usr/local/anaconda3/lib/python3.8/site-packages/pandas/core/generic.py\u001b[0m in \u001b[0;36mto_sql\u001b[0;34m(self, name, con, schema, if_exists, index, index_label, chunksize, dtype, method)\u001b[0m\n\u001b[1;32m   2949\u001b[0m         \u001b[0;32mfrom\u001b[0m \u001b[0mpandas\u001b[0m\u001b[0;34m.\u001b[0m\u001b[0mio\u001b[0m \u001b[0;32mimport\u001b[0m \u001b[0msql\u001b[0m\u001b[0;34m\u001b[0m\u001b[0;34m\u001b[0m\u001b[0m\n\u001b[1;32m   2950\u001b[0m \u001b[0;34m\u001b[0m\u001b[0m\n\u001b[0;32m-> 2951\u001b[0;31m         return sql.to_sql(\n\u001b[0m\u001b[1;32m   2952\u001b[0m             \u001b[0mself\u001b[0m\u001b[0;34m,\u001b[0m\u001b[0;34m\u001b[0m\u001b[0;34m\u001b[0m\u001b[0m\n\u001b[1;32m   2953\u001b[0m             \u001b[0mname\u001b[0m\u001b[0;34m,\u001b[0m\u001b[0;34m\u001b[0m\u001b[0;34m\u001b[0m\u001b[0m\n",
      "\u001b[0;32m/usr/local/anaconda3/lib/python3.8/site-packages/pandas/io/sql.py\u001b[0m in \u001b[0;36mto_sql\u001b[0;34m(frame, name, con, schema, if_exists, index, index_label, chunksize, dtype, method, engine, **engine_kwargs)\u001b[0m\n\u001b[1;32m    696\u001b[0m         )\n\u001b[1;32m    697\u001b[0m \u001b[0;34m\u001b[0m\u001b[0m\n\u001b[0;32m--> 698\u001b[0;31m     return pandas_sql.to_sql(\n\u001b[0m\u001b[1;32m    699\u001b[0m         \u001b[0mframe\u001b[0m\u001b[0;34m,\u001b[0m\u001b[0;34m\u001b[0m\u001b[0;34m\u001b[0m\u001b[0m\n\u001b[1;32m    700\u001b[0m         \u001b[0mname\u001b[0m\u001b[0;34m,\u001b[0m\u001b[0;34m\u001b[0m\u001b[0;34m\u001b[0m\u001b[0m\n",
      "\u001b[0;32m/usr/local/anaconda3/lib/python3.8/site-packages/pandas/io/sql.py\u001b[0m in \u001b[0;36mto_sql\u001b[0;34m(self, frame, name, if_exists, index, index_label, schema, chunksize, dtype, method, **kwargs)\u001b[0m\n\u001b[1;32m   2190\u001b[0m             \u001b[0mdtype\u001b[0m\u001b[0;34m=\u001b[0m\u001b[0mdtype\u001b[0m\u001b[0;34m,\u001b[0m\u001b[0;34m\u001b[0m\u001b[0;34m\u001b[0m\u001b[0m\n\u001b[1;32m   2191\u001b[0m         )\n\u001b[0;32m-> 2192\u001b[0;31m         \u001b[0mtable\u001b[0m\u001b[0;34m.\u001b[0m\u001b[0mcreate\u001b[0m\u001b[0;34m(\u001b[0m\u001b[0;34m)\u001b[0m\u001b[0;34m\u001b[0m\u001b[0;34m\u001b[0m\u001b[0m\n\u001b[0m\u001b[1;32m   2193\u001b[0m         \u001b[0;32mreturn\u001b[0m \u001b[0mtable\u001b[0m\u001b[0;34m.\u001b[0m\u001b[0minsert\u001b[0m\u001b[0;34m(\u001b[0m\u001b[0mchunksize\u001b[0m\u001b[0;34m,\u001b[0m \u001b[0mmethod\u001b[0m\u001b[0;34m)\u001b[0m\u001b[0;34m\u001b[0m\u001b[0;34m\u001b[0m\u001b[0m\n\u001b[1;32m   2194\u001b[0m \u001b[0;34m\u001b[0m\u001b[0m\n",
      "\u001b[0;32m/usr/local/anaconda3/lib/python3.8/site-packages/pandas/io/sql.py\u001b[0m in \u001b[0;36mcreate\u001b[0;34m(self)\u001b[0m\n\u001b[1;32m    832\u001b[0m         \u001b[0;32mif\u001b[0m \u001b[0mself\u001b[0m\u001b[0;34m.\u001b[0m\u001b[0mexists\u001b[0m\u001b[0;34m(\u001b[0m\u001b[0;34m)\u001b[0m\u001b[0;34m:\u001b[0m\u001b[0;34m\u001b[0m\u001b[0;34m\u001b[0m\u001b[0m\n\u001b[1;32m    833\u001b[0m             \u001b[0;32mif\u001b[0m \u001b[0mself\u001b[0m\u001b[0;34m.\u001b[0m\u001b[0mif_exists\u001b[0m \u001b[0;34m==\u001b[0m \u001b[0;34m\"fail\"\u001b[0m\u001b[0;34m:\u001b[0m\u001b[0;34m\u001b[0m\u001b[0;34m\u001b[0m\u001b[0m\n\u001b[0;32m--> 834\u001b[0;31m                 \u001b[0;32mraise\u001b[0m \u001b[0mValueError\u001b[0m\u001b[0;34m(\u001b[0m\u001b[0;34mf\"Table '{self.name}' already exists.\"\u001b[0m\u001b[0;34m)\u001b[0m\u001b[0;34m\u001b[0m\u001b[0;34m\u001b[0m\u001b[0m\n\u001b[0m\u001b[1;32m    835\u001b[0m             \u001b[0;32melif\u001b[0m \u001b[0mself\u001b[0m\u001b[0;34m.\u001b[0m\u001b[0mif_exists\u001b[0m \u001b[0;34m==\u001b[0m \u001b[0;34m\"replace\"\u001b[0m\u001b[0;34m:\u001b[0m\u001b[0;34m\u001b[0m\u001b[0;34m\u001b[0m\u001b[0m\n\u001b[1;32m    836\u001b[0m                 \u001b[0mself\u001b[0m\u001b[0;34m.\u001b[0m\u001b[0mpd_sql\u001b[0m\u001b[0;34m.\u001b[0m\u001b[0mdrop_table\u001b[0m\u001b[0;34m(\u001b[0m\u001b[0mself\u001b[0m\u001b[0;34m.\u001b[0m\u001b[0mname\u001b[0m\u001b[0;34m,\u001b[0m \u001b[0mself\u001b[0m\u001b[0;34m.\u001b[0m\u001b[0mschema\u001b[0m\u001b[0;34m)\u001b[0m\u001b[0;34m\u001b[0m\u001b[0;34m\u001b[0m\u001b[0m\n",
      "\u001b[0;31mValueError\u001b[0m: Table 'weather' already exists."
     ]
    }
   ],
   "source": [
    "df.to_sql('weather', conn, index=False)  "
   ]
  },
  {
   "cell_type": "markdown",
   "id": "e2bafd98",
   "metadata": {},
   "source": [
    "<hr style=\"border:1px solid red;\">"
   ]
  },
  {
   "cell_type": "markdown",
   "id": "8eac0f29",
   "metadata": {},
   "source": [
    "Проверяем корректность работы"
   ]
  },
  {
   "cell_type": "code",
   "execution_count": 78,
   "id": "3df8cb55",
   "metadata": {},
   "outputs": [],
   "source": [
    "query = '''                  \n",
    "\tSELECT * FROM weather\n",
    "'''"
   ]
  },
  {
   "cell_type": "code",
   "execution_count": 79,
   "id": "02e08c28",
   "metadata": {},
   "outputs": [
    {
     "data": {
      "text/html": [
       "<div>\n",
       "<style scoped>\n",
       "    .dataframe tbody tr th:only-of-type {\n",
       "        vertical-align: middle;\n",
       "    }\n",
       "\n",
       "    .dataframe tbody tr th {\n",
       "        vertical-align: top;\n",
       "    }\n",
       "\n",
       "    .dataframe thead th {\n",
       "        text-align: right;\n",
       "    }\n",
       "</style>\n",
       "<table border=\"1\" class=\"dataframe\">\n",
       "  <thead>\n",
       "    <tr style=\"text-align: right;\">\n",
       "      <th></th>\n",
       "      <th>Date</th>\n",
       "      <th>Temp</th>\n",
       "      <th>Month</th>\n",
       "      <th>date_only</th>\n",
       "    </tr>\n",
       "  </thead>\n",
       "  <tbody>\n",
       "    <tr>\n",
       "      <th>0</th>\n",
       "      <td>1981-01-01 00:00:00</td>\n",
       "      <td>20.7</td>\n",
       "      <td>1</td>\n",
       "      <td>1981-01-01</td>\n",
       "    </tr>\n",
       "    <tr>\n",
       "      <th>1</th>\n",
       "      <td>1981-01-02 00:00:00</td>\n",
       "      <td>17.9</td>\n",
       "      <td>1</td>\n",
       "      <td>1981-01-02</td>\n",
       "    </tr>\n",
       "    <tr>\n",
       "      <th>2</th>\n",
       "      <td>1981-01-03 00:00:00</td>\n",
       "      <td>18.8</td>\n",
       "      <td>1</td>\n",
       "      <td>1981-01-03</td>\n",
       "    </tr>\n",
       "    <tr>\n",
       "      <th>3</th>\n",
       "      <td>1981-01-04 00:00:00</td>\n",
       "      <td>14.6</td>\n",
       "      <td>1</td>\n",
       "      <td>1981-01-04</td>\n",
       "    </tr>\n",
       "    <tr>\n",
       "      <th>4</th>\n",
       "      <td>1981-01-05 00:00:00</td>\n",
       "      <td>15.8</td>\n",
       "      <td>1</td>\n",
       "      <td>1981-01-05</td>\n",
       "    </tr>\n",
       "    <tr>\n",
       "      <th>...</th>\n",
       "      <td>...</td>\n",
       "      <td>...</td>\n",
       "      <td>...</td>\n",
       "      <td>...</td>\n",
       "    </tr>\n",
       "    <tr>\n",
       "      <th>3645</th>\n",
       "      <td>1990-12-27 00:00:00</td>\n",
       "      <td>14.0</td>\n",
       "      <td>12</td>\n",
       "      <td>1990-12-27</td>\n",
       "    </tr>\n",
       "    <tr>\n",
       "      <th>3646</th>\n",
       "      <td>1990-12-28 00:00:00</td>\n",
       "      <td>13.6</td>\n",
       "      <td>12</td>\n",
       "      <td>1990-12-28</td>\n",
       "    </tr>\n",
       "    <tr>\n",
       "      <th>3647</th>\n",
       "      <td>1990-12-29 00:00:00</td>\n",
       "      <td>13.5</td>\n",
       "      <td>12</td>\n",
       "      <td>1990-12-29</td>\n",
       "    </tr>\n",
       "    <tr>\n",
       "      <th>3648</th>\n",
       "      <td>1990-12-30 00:00:00</td>\n",
       "      <td>15.7</td>\n",
       "      <td>12</td>\n",
       "      <td>1990-12-30</td>\n",
       "    </tr>\n",
       "    <tr>\n",
       "      <th>3649</th>\n",
       "      <td>1990-12-31 00:00:00</td>\n",
       "      <td>13.0</td>\n",
       "      <td>12</td>\n",
       "      <td>1990-12-31</td>\n",
       "    </tr>\n",
       "  </tbody>\n",
       "</table>\n",
       "<p>3650 rows × 4 columns</p>\n",
       "</div>"
      ],
      "text/plain": [
       "                     Date  Temp  Month   date_only\n",
       "0     1981-01-01 00:00:00  20.7      1  1981-01-01\n",
       "1     1981-01-02 00:00:00  17.9      1  1981-01-02\n",
       "2     1981-01-03 00:00:00  18.8      1  1981-01-03\n",
       "3     1981-01-04 00:00:00  14.6      1  1981-01-04\n",
       "4     1981-01-05 00:00:00  15.8      1  1981-01-05\n",
       "...                   ...   ...    ...         ...\n",
       "3645  1990-12-27 00:00:00  14.0     12  1990-12-27\n",
       "3646  1990-12-28 00:00:00  13.6     12  1990-12-28\n",
       "3647  1990-12-29 00:00:00  13.5     12  1990-12-29\n",
       "3648  1990-12-30 00:00:00  15.7     12  1990-12-30\n",
       "3649  1990-12-31 00:00:00  13.0     12  1990-12-31\n",
       "\n",
       "[3650 rows x 4 columns]"
      ]
     },
     "execution_count": 79,
     "metadata": {},
     "output_type": "execute_result"
    }
   ],
   "source": [
    "df_sql = pd.read_sql(query, conn)\n",
    "df_sql"
   ]
  },
  {
   "cell_type": "markdown",
   "id": "e262732e",
   "metadata": {},
   "source": [
    "<a id=\"task13\"></a>\n",
    "\n",
    "### Задача №13. Реализации интерфейса для пользователя"
   ]
  },
  {
   "cell_type": "markdown",
   "id": "f0981694",
   "metadata": {},
   "source": [
    "В этой задаче вам потребуются бибоиотеки ```ipywidgets``` и ```IPython.display```"
   ]
  },
  {
   "cell_type": "code",
   "execution_count": 83,
   "id": "505d619b",
   "metadata": {},
   "outputs": [],
   "source": [
    "import ipywidgets as widgets\n",
    "from IPython.display import display, clear_output"
   ]
  },
  {
   "cell_type": "markdown",
   "id": "4e8e709d",
   "metadata": {},
   "source": [
    "Так же нужна будет функция для выбора данных по дате"
   ]
  },
  {
   "cell_type": "code",
   "execution_count": 81,
   "id": "fc2937dc",
   "metadata": {},
   "outputs": [],
   "source": [
    "cursor = conn.cursor()\n",
    "def get_weather_info(date):\n",
    "    query = f\"SELECT Temp FROM weather WHERE date_only = '{date}'\"\n",
    "    result = cursor.execute(query).fetchall()\n",
    "    if result:\n",
    "        return result[0][0]\n",
    "    return \"No data\""
   ]
  },
  {
   "cell_type": "markdown",
   "id": "7f28c038",
   "metadata": {},
   "source": [
    "Ваша задача, используя бибилиотеку ```ipywidgets``` нарисовать интерфейс, который показан на рисунке"
   ]
  },
  {
   "cell_type": "markdown",
   "id": "90eeb719",
   "metadata": {},
   "source": [
    "<center><img src=\"./images/fig_weather_date.png\" alt=\"Description of the image\" width=\"400\" height=\"300\"/></center>"
   ]
  },
  {
   "cell_type": "markdown",
   "id": "4e5b0d2f",
   "metadata": {},
   "source": [
    "<hr style=\"border:1px solid red;\">\n",
    "<a id='solve13'></a>\n",
    "\n",
    "###  Решение "
   ]
  },
  {
   "cell_type": "code",
   "execution_count": 87,
   "id": "2f6b1d83",
   "metadata": {},
   "outputs": [
    {
     "data": {
      "application/vnd.jupyter.widget-view+json": {
       "model_id": "50dc5a4df37545a9910f09c5356fadf7",
       "version_major": 2,
       "version_minor": 0
      },
      "text/plain": [
       "DatePicker(value=None, description='Выберите дату')"
      ]
     },
     "metadata": {},
     "output_type": "display_data"
    },
    {
     "data": {
      "application/vnd.jupyter.widget-view+json": {
       "model_id": "7120187173de459e93fbe6d8691d4b3c",
       "version_major": 2,
       "version_minor": 0
      },
      "text/plain": [
       "Button(description='Узнать погоду', style=ButtonStyle())"
      ]
     },
     "metadata": {},
     "output_type": "display_data"
    },
    {
     "data": {
      "application/vnd.jupyter.widget-view+json": {
       "model_id": "3cbda6d3096642808b5d6c98cd3ddd07",
       "version_major": 2,
       "version_minor": 0
      },
      "text/plain": [
       "Output()"
      ]
     },
     "metadata": {},
     "output_type": "display_data"
    }
   ],
   "source": [
    "# Create a date picker widget\n",
    "date_picker = widgets.DatePicker(\n",
    "    description='Выберите дату',\n",
    "    disabled=False\n",
    ")\n",
    "\n",
    "# Create a button widget\n",
    "button = widgets.Button(description=\"Узнать погоду\")\n",
    "\n",
    "# Create an output widget to display the weather information\n",
    "output = widgets.Output()\n",
    "\n",
    "# Define a function to handle button click event\n",
    "def on_button_click(b):\n",
    "    with output:\n",
    "        clear_output(wait=True)  # Clear the previous output\n",
    "        selected_date = date_picker.value.strftime('%Y-%m-%d')\n",
    "        weather_data = get_weather_info(selected_date)\n",
    "        print(weather_data)\n",
    "\n",
    "# Attach the button click event to the function\n",
    "button.on_click(on_button_click)\n",
    "\n",
    "# Display the widgets\n",
    "display(date_picker, button, output)"
   ]
  },
  {
   "cell_type": "markdown",
   "id": "2e84ecf8",
   "metadata": {},
   "source": [
    "<hr style=\"border:1px solid red;\">"
   ]
  }
 ],
 "metadata": {
  "colab": {
   "provenance": []
  },
  "kernelspec": {
   "display_name": "Python 3",
   "language": "python",
   "name": "python3"
  },
  "language_info": {
   "codemirror_mode": {
    "name": "ipython",
    "version": 3
   },
   "file_extension": ".py",
   "mimetype": "text/x-python",
   "name": "python",
   "nbconvert_exporter": "python",
   "pygments_lexer": "ipython3",
   "version": "3.8.8"
  }
 },
 "nbformat": 4,
 "nbformat_minor": 5
}
