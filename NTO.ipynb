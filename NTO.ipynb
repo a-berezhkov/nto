{
 "cells": [
  {
   "cell_type": "markdown",
   "id": "04ee2426",
   "metadata": {},
   "source": [
    "# 1. Генерация данных "
   ]
  },
  {
   "cell_type": "markdown",
   "id": "a22506d5",
   "metadata": {},
   "source": [
    "Используя генераторы случайных чисел по разным распределениям  создать выборку экономических данных для 1000 фирм. \n",
    "\n",
    "**Переменные**:\n",
    "\n",
    "- Год основания фирмы (от 1990 до 2020).\n",
    "- Годовая выручка фирмы (в диапазоне от 100,000 до 10,000,000).\n",
    "- Количество сотрудников в фирме (от 10 до 500)."
   ]
  },
  {
   "cell_type": "code",
   "execution_count": 1,
   "id": "7fd659db",
   "metadata": {},
   "outputs": [],
   "source": [
    "import csv\n",
    "import random"
   ]
  },
  {
   "cell_type": "code",
   "execution_count": 2,
   "id": "b0ee9acb",
   "metadata": {},
   "outputs": [],
   "source": [
    "# Задаем seed для воспроизводимости результатов\n",
    "random.seed(42)"
   ]
  },
  {
   "cell_type": "markdown",
   "id": "d04777d3",
   "metadata": {},
   "source": [
    "Данные удобно хранить в списках, которые могут быть созданы заранее. Подробнее о списках - [почитать тут](https://pythonworld.ru/tipy-dannyx-v-python/spiski-list-funkcii-i-metody-spiskov.html)"
   ]
  },
  {
   "cell_type": "code",
   "execution_count": 3,
   "id": "224b3c91",
   "metadata": {},
   "outputs": [],
   "source": [
    "# Создаем пустые списки для данных\n",
    "years = []\n",
    "revenues = []\n",
    "employees = []"
   ]
  },
  {
   "cell_type": "markdown",
   "id": "d58bff96",
   "metadata": {},
   "source": [
    "Генерация данных осуществляется с помощью бибилиотеки random и метода randint()"
   ]
  },
  {
   "cell_type": "code",
   "execution_count": 4,
   "id": "7c0a3060",
   "metadata": {},
   "outputs": [],
   "source": [
    "# Генерируем случайные данные для 1000 фирм\n",
    "for _ in range(1000):\n",
    "    # Год основания фирмы (от 1990 до 2020)\n",
    "    year = random.randint(1990, 2020)\n",
    "    years.append(year)\n",
    "    \n",
    "    # Годовая выручка фирмы (в диапазоне от 100,000 до 10,000,000)\n",
    "    revenue = random.randint(100000, 10000000)\n",
    "    revenues.append(revenue)\n",
    "    \n",
    "    # Количество сотрудников в фирме (от 10 до 500)\n",
    "    employee_count = random.randint(10, 500)\n",
    "    employees.append(employee_count)"
   ]
  },
  {
   "cell_type": "code",
   "execution_count": 5,
   "id": "c7523d77",
   "metadata": {},
   "outputs": [],
   "source": [
    "# Записываем данные в CSV файл\n",
    "with open('economic_data.csv', 'w', newline='') as csvfile:\n",
    "    fieldnames = ['Год основания', 'Годовая выручка', 'Количество сотрудников']\n",
    "    writer = csv.DictWriter(csvfile, fieldnames=fieldnames)\n",
    "\n",
    "    writer.writeheader()\n",
    "    for i in range(1000):\n",
    "        writer.writerow({'Год основания': years[i], 'Годовая выручка': revenues[i], 'Количество сотрудников': employees[i]})"
   ]
  },
  {
   "cell_type": "markdown",
   "id": "4a31f29c",
   "metadata": {},
   "source": [
    "Для более удобной работы, после сохранения данных формате .csv следует преобразовать их в датафрейм используя бибилиотеку pandas "
   ]
  },
  {
   "cell_type": "code",
   "execution_count": 6,
   "id": "1cffa0ac",
   "metadata": {},
   "outputs": [],
   "source": [
    "import pandas as pd\n",
    "df = pd.read_csv('economic_data.csv')"
   ]
  },
  {
   "cell_type": "code",
   "execution_count": 7,
   "id": "75d1b0a2",
   "metadata": {},
   "outputs": [
    {
     "data": {
      "text/html": [
       "<div>\n",
       "<style scoped>\n",
       "    .dataframe tbody tr th:only-of-type {\n",
       "        vertical-align: middle;\n",
       "    }\n",
       "\n",
       "    .dataframe tbody tr th {\n",
       "        vertical-align: top;\n",
       "    }\n",
       "\n",
       "    .dataframe thead th {\n",
       "        text-align: right;\n",
       "    }\n",
       "</style>\n",
       "<table border=\"1\" class=\"dataframe\">\n",
       "  <thead>\n",
       "    <tr style=\"text-align: right;\">\n",
       "      <th></th>\n",
       "      <th>Год основания</th>\n",
       "      <th>Годовая выручка</th>\n",
       "      <th>Количество сотрудников</th>\n",
       "    </tr>\n",
       "  </thead>\n",
       "  <tbody>\n",
       "    <tr>\n",
       "      <th>0</th>\n",
       "      <td>2010</td>\n",
       "      <td>1967825</td>\n",
       "      <td>22</td>\n",
       "    </tr>\n",
       "    <tr>\n",
       "      <th>1</th>\n",
       "      <td>2013</td>\n",
       "      <td>4714226</td>\n",
       "      <td>135</td>\n",
       "    </tr>\n",
       "    <tr>\n",
       "      <th>2</th>\n",
       "      <td>1997</td>\n",
       "      <td>2441057</td>\n",
       "      <td>387</td>\n",
       "    </tr>\n",
       "    <tr>\n",
       "      <th>3</th>\n",
       "      <td>1993</td>\n",
       "      <td>9249732</td>\n",
       "      <td>54</td>\n",
       "    </tr>\n",
       "    <tr>\n",
       "      <th>4</th>\n",
       "      <td>2008</td>\n",
       "      <td>7178673</td>\n",
       "      <td>26</td>\n",
       "    </tr>\n",
       "  </tbody>\n",
       "</table>\n",
       "</div>"
      ],
      "text/plain": [
       "   Год основания  Годовая выручка  Количество сотрудников\n",
       "0           2010          1967825                      22\n",
       "1           2013          4714226                     135\n",
       "2           1997          2441057                     387\n",
       "3           1993          9249732                      54\n",
       "4           2008          7178673                      26"
      ]
     },
     "execution_count": 7,
     "metadata": {},
     "output_type": "execute_result"
    }
   ],
   "source": [
    "df.head()"
   ]
  },
  {
   "cell_type": "markdown",
   "id": "d09c8359",
   "metadata": {},
   "source": [
    "# 2. Статистический анализ"
   ]
  },
  {
   "cell_type": "markdown",
   "id": "e3b76f2d",
   "metadata": {},
   "source": [
    "- Рассчитайте средние значения и медианы для каждой переменной.\n",
    "- Постройте гистограммы и оценки плотности для годовой выручки и количества сотрудников.\n",
    "- Вычислите корреляции между годом основания и годовой выручкой фирмы.\n",
    "- Выявите фирмы, которые считаются стартапами (фирмы, основанные после 2010 года, с выручкой менее 1,000,000 и менее чем 50 сотрудниками) и определите их процентное соотношение от общего числа фирм."
   ]
  },
  {
   "cell_type": "markdown",
   "id": "2f3a3dd2",
   "metadata": {},
   "source": [
    "## 2.1 Cредние значения и медианы "
   ]
  },
  {
   "cell_type": "markdown",
   "id": "1729c535",
   "metadata": {},
   "source": [
    "Как считается среднее значение"
   ]
  },
  {
   "attachments": {},
   "cell_type": "markdown",
   "id": "d690f1c0",
   "metadata": {},
   "source": [
    "<center><img src=\"images/fig_1.png\" alt=\"Description of the image\" width=\"500\" height=\"300\"/></center>"
   ]
  },
  {
   "cell_type": "markdown",
   "id": "4276e7cf",
   "metadata": {},
   "source": [
    "<center><img src=\"images/fig_2.png\" alt=\"Description of the image\" width=\"500\" height=\"300\"/></center>"
   ]
  },
  {
   "cell_type": "code",
   "execution_count": 13,
   "id": "b6bff514",
   "metadata": {},
   "outputs": [],
   "source": [
    "# Расчет среднего значения для каждой переменной\n",
    "average_year = df['Год основания'].mean()\n",
    "average_revenue = df['Годовая выручка'].mean()\n",
    "average_employees = df['Количество сотрудников'].mean()"
   ]
  },
  {
   "cell_type": "markdown",
   "id": "6dcca5e3",
   "metadata": {},
   "source": [
    "Как считается медиана"
   ]
  },
  {
   "cell_type": "markdown",
   "id": "237fa79e",
   "metadata": {},
   "source": [
    "<center><img src=\"images/fig_3.png\" alt=\"Description of the image\" width=\"500\" height=\"300\"/></center>"
   ]
  },
  {
   "cell_type": "markdown",
   "id": "b2bf6551",
   "metadata": {},
   "source": [
    "Медиана — это значение, которое разделяет упорядоченный набор данных на две равные половины. Для расчета медианы в упорядоченном наборе данных, количество элементов которого нечетное, медиана - это значение, которое находится в середине упорядоченного списка. Если количество элементов четное, медиана - это среднее арифметическое двух центральных значений.\n",
    "\n",
    "Для набора данных X длиной n, где  n - нечетное число, медиана  M рассчитывается следующим образом:"
   ]
  },
  {
   "cell_type": "markdown",
   "id": "b0c0b2cf",
   "metadata": {},
   "source": [
    "Если  n нечетное:"
   ]
  },
  {
   "cell_type": "markdown",
   "id": "4651bee4",
   "metadata": {},
   "source": [
    "$$\n",
    "M = X * (n+1)/2\n",
    "$$"
   ]
  },
  {
   "cell_type": "markdown",
   "id": "9c8f99c7",
   "metadata": {},
   "source": [
    "Если n четное:"
   ]
  },
  {
   "cell_type": "markdown",
   "id": "84516365",
   "metadata": {},
   "source": [
    "$$\n",
    "M = (X * n/2 + X(n/2 +1))/2\n",
    "$$"
   ]
  },
  {
   "cell_type": "markdown",
   "id": "00727dc1",
   "metadata": {},
   "source": [
    "Здесь  X(i) представляет собой  i-е значение в упорядоченном наборе данных  X."
   ]
  },
  {
   "cell_type": "markdown",
   "id": "4b58a827",
   "metadata": {},
   "source": [
    "**Пожалуйста, обратите внимание, что перед вычислением медианы набор данных обычно сортируется по возрастанию или убыванию.**"
   ]
  },
  {
   "cell_type": "code",
   "execution_count": 14,
   "id": "7cb7cf98",
   "metadata": {},
   "outputs": [],
   "source": [
    "median_year = df['Год основания'].median()\n",
    "median_revenue = df['Годовая выручка'].median()\n",
    "median_employees = df['Количество сотрудников'].median()"
   ]
  },
  {
   "cell_type": "markdown",
   "id": "1dd4f0e8",
   "metadata": {},
   "source": [
    "## 2.2 Гистограммы и оценки плотности для годовой выручки и количества сотрудников."
   ]
  },
  {
   "cell_type": "code",
   "execution_count": 15,
   "id": "0e62d6b3",
   "metadata": {},
   "outputs": [],
   "source": [
    "import matplotlib.pyplot as plt\n",
    "import seaborn as sns"
   ]
  },
  {
   "cell_type": "code",
   "execution_count": 16,
   "id": "49d4f9ef",
   "metadata": {},
   "outputs": [
    {
     "data": {
      "image/png": "[encoded data removed]",
      "text/plain": [
       "<Figure size 864x432 with 2 Axes>"
      ]
     },
     "metadata": {
      "needs_background": "light"
     },
     "output_type": "display_data"
    }
   ],
   "source": [
    "plt.figure(figsize=(12, 6))\n",
    "plt.subplot(1, 2, 1)\n",
    "sns.histplot(df['Годовая выручка'], kde=True, bins=30)\n",
    "plt.title('Гистограмма и оценка плотности для годовой выручки')\n",
    "plt.xlabel('Годовая выручка')\n",
    "plt.ylabel('Плотность')\n",
    "\n",
    "# Построение гистограммы и оценки плотности для количества сотрудников\n",
    "plt.subplot(1, 2, 2)\n",
    "sns.histplot(df['Количество сотрудников'], kde=True, bins=30)\n",
    "plt.title('Гистограмма и оценка плотности для количества сотрудников')\n",
    "plt.xlabel('Количество сотрудников')\n",
    "plt.ylabel('Плотность')\n",
    "\n",
    "# Отображение графиков\n",
    "plt.tight_layout()\n",
    "plt.show()"
   ]
  },
  {
   "cell_type": "markdown",
   "id": "3dcebb91",
   "metadata": {},
   "source": [
    "# 2.3 Корреляции между годом основания и годовой выручкой фирмы."
   ]
  },
  {
   "cell_type": "code",
   "execution_count": 17,
   "id": "4b3b5748",
   "metadata": {},
   "outputs": [],
   "source": [
    "correlation = df['Год основания'].corr(df['Годовая выручка'])"
   ]
  },
  {
   "cell_type": "code",
   "execution_count": 18,
   "id": "edc98058",
   "metadata": {},
   "outputs": [
    {
     "data": {
      "text/plain": [
       "0.016278417291295356"
      ]
     },
     "execution_count": 18,
     "metadata": {},
     "output_type": "execute_result"
    }
   ],
   "source": [
    "correlation"
   ]
  },
  {
   "cell_type": "code",
   "execution_count": 19,
   "id": "a3a647fb",
   "metadata": {},
   "outputs": [
    {
     "data": {
      "image/png": "[encoded data removed]",
      "text/plain": [
       "<Figure size 720x576 with 2 Axes>"
      ]
     },
     "metadata": {
      "needs_background": "light"
     },
     "output_type": "display_data"
    }
   ],
   "source": [
    "correlation_matrix = df.corr()\n",
    "\n",
    "\n",
    "plt.figure(figsize=(10, 8))\n",
    "sns.heatmap(data=correlation_matrix, annot=True, cmap='coolwarm', linewidths=.5)\n",
    "plt.title('График корреляции между переменными')\n",
    "plt.show()"
   ]
  },
  {
   "cell_type": "code",
   "execution_count": null,
   "id": "08a83fe6",
   "metadata": {},
   "outputs": [],
   "source": []
  }
 ],
 "metadata": {
  "kernelspec": {
   "display_name": "Python 3",
   "language": "python",
   "name": "python3"
  },
  "language_info": {
   "codemirror_mode": {
    "name": "ipython",
    "version": 3
   },
   "file_extension": ".py",
   "mimetype": "text/x-python",
   "name": "python",
   "nbconvert_exporter": "python",
   "pygments_lexer": "ipython3",
   "version": "3.8.8"
  }
 },
 "nbformat": 4,
 "nbformat_minor": 5
}
