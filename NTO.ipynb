{
 "cells": [
  {
   "cell_type": "markdown",
   "id": "124418a4",
   "metadata": {},
   "source": [
    "# 1. Генерация данных "
   ]
  },
  {
   "cell_type": "markdown",
   "id": "1f5d8cbd",
   "metadata": {},
   "source": [
    "Используя генераторы случайных чисел по разным распределениям  создать выборку экономических данных для 1000 фирм. \n",
    "\n",
    "**Переменные**:\n",
    "\n",
    "- Год основания фирмы (от 1990 до 2020).\n",
    "- Годовая выручка фирмы (в диапазоне от 100,000 до 10,000,000).\n",
    "- Количество сотрудников в фирме (от 10 до 500)."
   ]
  },
  {
   "cell_type": "code",
   "execution_count": 1,
   "id": "4e949643",
   "metadata": {},
   "outputs": [],
   "source": [
    "import csv\n",
    "import random"
   ]
  },
  {
   "cell_type": "code",
   "execution_count": 2,
   "id": "c6d4cc64",
   "metadata": {},
   "outputs": [],
   "source": [
    "# Задаем seed для воспроизводимости результатов\n",
    "random.seed(42)"
   ]
  },
  {
   "cell_type": "markdown",
   "id": "7092b43b",
   "metadata": {},
   "source": [
    "Данные удобно хранить в списках, которые могут быть созданы заранее. Подробнее о списках - [почитать тут](https://pythonworld.ru/tipy-dannyx-v-python/spiski-list-funkcii-i-metody-spiskov.html)"
   ]
  },
  {
   "cell_type": "code",
   "execution_count": 3,
   "id": "3bb6ba5d",
   "metadata": {},
   "outputs": [],
   "source": [
    "# Создаем пустые списки для данных\n",
    "years = []\n",
    "revenues = []\n",
    "employees = []"
   ]
  },
  {
   "cell_type": "markdown",
   "id": "ccdcb02d",
   "metadata": {},
   "source": [
    "Генерация данных осуществляется с помощью бибилиотеки random и метода randint()"
   ]
  },
  {
   "cell_type": "code",
   "execution_count": 4,
   "id": "0df5076d",
   "metadata": {},
   "outputs": [],
   "source": [
    "# Генерируем случайные данные для 1000 фирм\n",
    "for _ in range(1000):\n",
    "    # Год основания фирмы (от 1990 до 2020)\n",
    "    year = random.randint(1990, 2020)\n",
    "    years.append(year)\n",
    "    \n",
    "    # Годовая выручка фирмы (в диапазоне от 100,000 до 10,000,000)\n",
    "    revenue = random.randint(100000, 10000000)\n",
    "    revenues.append(revenue)\n",
    "    \n",
    "    # Количество сотрудников в фирме (от 10 до 500)\n",
    "    employee_count = random.randint(10, 500)\n",
    "    employees.append(employee_count)"
   ]
  },
  {
   "cell_type": "code",
   "execution_count": 5,
   "id": "683e52e0",
   "metadata": {},
   "outputs": [],
   "source": [
    "# Записываем данные в CSV файл\n",
    "with open('economic_data.csv', 'w', newline='') as csvfile:\n",
    "    fieldnames = ['Год основания', 'Годовая выручка', 'Количество сотрудников']\n",
    "    writer = csv.DictWriter(csvfile, fieldnames=fieldnames)\n",
    "\n",
    "    writer.writeheader()\n",
    "    for i in range(1000):\n",
    "        writer.writerow({'Год основания': years[i], 'Годовая выручка': revenues[i], 'Количество сотрудников': employees[i]})"
   ]
  },
  {
   "cell_type": "markdown",
   "id": "74b9ff95",
   "metadata": {},
   "source": [
    "Для более удобной работы, после сохранения данных формате .csv следует преобразовать их в датафрейм используя бибилиотеку pandas "
   ]
  },
  {
   "cell_type": "code",
   "execution_count": 6,
   "id": "21552d05",
   "metadata": {},
   "outputs": [],
   "source": [
    "import pandas as pd\n",
    "df = pd.read_csv('economic_data.csv')"
   ]
  },
  {
   "cell_type": "code",
   "execution_count": 7,
   "id": "ef725bc3",
   "metadata": {},
   "outputs": [
    {
     "data": {
      "text/html": [
       "<div>\n",
       "<style scoped>\n",
       "    .dataframe tbody tr th:only-of-type {\n",
       "        vertical-align: middle;\n",
       "    }\n",
       "\n",
       "    .dataframe tbody tr th {\n",
       "        vertical-align: top;\n",
       "    }\n",
       "\n",
       "    .dataframe thead th {\n",
       "        text-align: right;\n",
       "    }\n",
       "</style>\n",
       "<table border=\"1\" class=\"dataframe\">\n",
       "  <thead>\n",
       "    <tr style=\"text-align: right;\">\n",
       "      <th></th>\n",
       "      <th>Год основания</th>\n",
       "      <th>Годовая выручка</th>\n",
       "      <th>Количество сотрудников</th>\n",
       "    </tr>\n",
       "  </thead>\n",
       "  <tbody>\n",
       "    <tr>\n",
       "      <th>0</th>\n",
       "      <td>2010</td>\n",
       "      <td>1967825</td>\n",
       "      <td>22</td>\n",
       "    </tr>\n",
       "    <tr>\n",
       "      <th>1</th>\n",
       "      <td>2013</td>\n",
       "      <td>4714226</td>\n",
       "      <td>135</td>\n",
       "    </tr>\n",
       "    <tr>\n",
       "      <th>2</th>\n",
       "      <td>1997</td>\n",
       "      <td>2441057</td>\n",
       "      <td>387</td>\n",
       "    </tr>\n",
       "    <tr>\n",
       "      <th>3</th>\n",
       "      <td>1993</td>\n",
       "      <td>9249732</td>\n",
       "      <td>54</td>\n",
       "    </tr>\n",
       "    <tr>\n",
       "      <th>4</th>\n",
       "      <td>2008</td>\n",
       "      <td>7178673</td>\n",
       "      <td>26</td>\n",
       "    </tr>\n",
       "  </tbody>\n",
       "</table>\n",
       "</div>"
      ],
      "text/plain": [
       "   Год основания  Годовая выручка  Количество сотрудников\n",
       "0           2010          1967825                      22\n",
       "1           2013          4714226                     135\n",
       "2           1997          2441057                     387\n",
       "3           1993          9249732                      54\n",
       "4           2008          7178673                      26"
      ]
     },
     "execution_count": 7,
     "metadata": {},
     "output_type": "execute_result"
    }
   ],
   "source": [
    "df.head()"
   ]
  },
  {
   "cell_type": "code",
   "execution_count": null,
   "id": "2d8c9eec",
   "metadata": {},
   "outputs": [],
   "source": []
  }
 ],
 "metadata": {
  "kernelspec": {
   "display_name": "Python 3",
   "language": "python",
   "name": "python3"
  },
  "language_info": {
   "codemirror_mode": {
    "name": "ipython",
    "version": 3
   },
   "file_extension": ".py",
   "mimetype": "text/x-python",
   "name": "python",
   "nbconvert_exporter": "python",
   "pygments_lexer": "ipython3",
   "version": "3.8.8"
  }
 },
 "nbformat": 4,
 "nbformat_minor": 5
}
